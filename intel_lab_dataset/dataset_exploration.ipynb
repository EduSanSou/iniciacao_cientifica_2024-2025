{
 "cells": [
  {
   "cell_type": "code",
   "execution_count": 2,
   "metadata": {},
   "outputs": [],
   "source": [
    "#Bibliotecas"
   ]
  },
  {
   "cell_type": "code",
   "execution_count": 3,
   "metadata": {},
   "outputs": [],
   "source": [
    "import pandas as pd\n",
    "import numpy as np\n",
    "import matplotlib.pyplot as plt\n",
    "import seaborn as sns\n",
    "from scipy.stats import skew\n",
    "from scipy.stats import kurtosis"
   ]
  },
  {
   "cell_type": "code",
   "execution_count": 4,
   "metadata": {},
   "outputs": [],
   "source": [
    "#Funcoes"
   ]
  },
  {
   "cell_type": "code",
   "execution_count": 5,
   "metadata": {},
   "outputs": [],
   "source": [
    "def plotar_histograma(dados):\n",
    "    plt.figure(figsize=(8, 10))\n",
    "    plt.subplot(2, 1, 1)\n",
    "    plt.title(f'Histograma({dados.name})')\n",
    "    sns.histplot(data = dados, kde = True , bins=10)"
   ]
  },
  {
   "cell_type": "code",
   "execution_count": 6,
   "metadata": {},
   "outputs": [],
   "source": [
    "def plotar_boxplot(dados):\n",
    "    plt.figure(figsize=(8, 10))\n",
    "    plt.subplot(2, 1, 2)\n",
    "    sns.boxplot(data = dados , orient=\"v\")\n",
    "    plt.title(f'Boxplot({dados.name})')\n",
    "    plt.tight_layout(pad=3.0)"
   ]
  },
  {
   "cell_type": "code",
   "execution_count": 7,
   "metadata": {},
   "outputs": [],
   "source": [
    "def plotar_grafico_setores_registros(proporcao_completos, proporcao_incompletos, proporcao_inconsistentes):\n",
    "    plt.figure(figsize=(36, 30))\n",
    "    plt.subplot(4, 1, 2)\n",
    "    labels = ['Completos', 'Incompletos', 'Inconsistentes']\n",
    "    sizes = [proporcao_completos, proporcao_incompletos, proporcao_inconsistentes]\n",
    "    plt.pie(sizes, labels=labels, autopct='%1.1f%%', startangle=140)\n",
    "    plt.title('Gráfico de Setores: Registros')"
   ]
  },
  {
   "cell_type": "code",
   "execution_count": 8,
   "metadata": {},
   "outputs": [],
   "source": [
    "def plotar_grafico_setores_outliers(proporcao_outliers_temperature, proporcao_outliers_humidity, proporcao_outliers_light, proporcao_outliers_voltage):\n",
    "    plt.figure(figsize=(36, 30))\n",
    "    plt.subplot(4, 1, 2)\n",
    "    labels = ['temperature','humidity','light','voltage']\n",
    "    sizes = [proporcao_outliers_temperature, proporcao_outliers_humidity, proporcao_outliers_light, proporcao_outliers_voltage]\n",
    "    plt.pie(sizes, labels=labels, autopct='%1.1f%%', startangle=140)\n",
    "    plt.title('Gráfico de Setores: Outliers')"
   ]
  },
  {
   "cell_type": "code",
   "execution_count": 9,
   "metadata": {},
   "outputs": [],
   "source": [
    "#Dataset completo (todos os registros)"
   ]
  },
  {
   "cell_type": "code",
   "execution_count": 10,
   "metadata": {},
   "outputs": [
    {
     "data": {
      "text/html": [
       "<div>\n",
       "<style scoped>\n",
       "    .dataframe tbody tr th:only-of-type {\n",
       "        vertical-align: middle;\n",
       "    }\n",
       "\n",
       "    .dataframe tbody tr th {\n",
       "        vertical-align: top;\n",
       "    }\n",
       "\n",
       "    .dataframe thead th {\n",
       "        text-align: right;\n",
       "    }\n",
       "</style>\n",
       "<table border=\"1\" class=\"dataframe\">\n",
       "  <thead>\n",
       "    <tr style=\"text-align: right;\">\n",
       "      <th></th>\n",
       "      <th>date</th>\n",
       "      <th>time</th>\n",
       "      <th>epoch</th>\n",
       "      <th>moteid</th>\n",
       "      <th>temperature</th>\n",
       "      <th>humidity</th>\n",
       "      <th>light</th>\n",
       "      <th>voltage</th>\n",
       "    </tr>\n",
       "  </thead>\n",
       "  <tbody>\n",
       "    <tr>\n",
       "      <th>0</th>\n",
       "      <td>2004-03-31</td>\n",
       "      <td>03:38:15.757551</td>\n",
       "      <td>2</td>\n",
       "      <td>1.0</td>\n",
       "      <td>122.1530</td>\n",
       "      <td>-3.91901</td>\n",
       "      <td>11.04</td>\n",
       "      <td>2.03397</td>\n",
       "    </tr>\n",
       "    <tr>\n",
       "      <th>1</th>\n",
       "      <td>2004-02-28</td>\n",
       "      <td>00:59:16.02785</td>\n",
       "      <td>3</td>\n",
       "      <td>1.0</td>\n",
       "      <td>19.9884</td>\n",
       "      <td>37.09330</td>\n",
       "      <td>45.08</td>\n",
       "      <td>2.69964</td>\n",
       "    </tr>\n",
       "    <tr>\n",
       "      <th>2</th>\n",
       "      <td>2004-02-28</td>\n",
       "      <td>01:03:16.33393</td>\n",
       "      <td>11</td>\n",
       "      <td>1.0</td>\n",
       "      <td>19.3024</td>\n",
       "      <td>38.46290</td>\n",
       "      <td>45.08</td>\n",
       "      <td>2.68742</td>\n",
       "    </tr>\n",
       "    <tr>\n",
       "      <th>3</th>\n",
       "      <td>2004-02-28</td>\n",
       "      <td>01:06:16.013453</td>\n",
       "      <td>17</td>\n",
       "      <td>1.0</td>\n",
       "      <td>19.1652</td>\n",
       "      <td>38.80390</td>\n",
       "      <td>45.08</td>\n",
       "      <td>2.68742</td>\n",
       "    </tr>\n",
       "    <tr>\n",
       "      <th>4</th>\n",
       "      <td>2004-02-28</td>\n",
       "      <td>01:06:46.778088</td>\n",
       "      <td>18</td>\n",
       "      <td>1.0</td>\n",
       "      <td>19.1750</td>\n",
       "      <td>38.83790</td>\n",
       "      <td>45.08</td>\n",
       "      <td>2.69964</td>\n",
       "    </tr>\n",
       "    <tr>\n",
       "      <th>...</th>\n",
       "      <td>...</td>\n",
       "      <td>...</td>\n",
       "      <td>...</td>\n",
       "      <td>...</td>\n",
       "      <td>...</td>\n",
       "      <td>...</td>\n",
       "      <td>...</td>\n",
       "      <td>...</td>\n",
       "    </tr>\n",
       "    <tr>\n",
       "      <th>2313677</th>\n",
       "      <td>2004-04-02</td>\n",
       "      <td>01:14:54.164318</td>\n",
       "      <td>61274</td>\n",
       "      <td>NaN</td>\n",
       "      <td>NaN</td>\n",
       "      <td>NaN</td>\n",
       "      <td>NaN</td>\n",
       "      <td>NaN</td>\n",
       "    </tr>\n",
       "    <tr>\n",
       "      <th>2313678</th>\n",
       "      <td>2004-04-02</td>\n",
       "      <td>01:17:53.670524</td>\n",
       "      <td>61275</td>\n",
       "      <td>NaN</td>\n",
       "      <td>NaN</td>\n",
       "      <td>NaN</td>\n",
       "      <td>NaN</td>\n",
       "      <td>NaN</td>\n",
       "    </tr>\n",
       "    <tr>\n",
       "      <th>2313679</th>\n",
       "      <td>2004-04-02</td>\n",
       "      <td>01:20:52.807972</td>\n",
       "      <td>61276</td>\n",
       "      <td>NaN</td>\n",
       "      <td>NaN</td>\n",
       "      <td>NaN</td>\n",
       "      <td>NaN</td>\n",
       "      <td>NaN</td>\n",
       "    </tr>\n",
       "    <tr>\n",
       "      <th>2313680</th>\n",
       "      <td>2004-04-02</td>\n",
       "      <td>01:26:53.950342</td>\n",
       "      <td>61278</td>\n",
       "      <td>NaN</td>\n",
       "      <td>NaN</td>\n",
       "      <td>NaN</td>\n",
       "      <td>NaN</td>\n",
       "      <td>NaN</td>\n",
       "    </tr>\n",
       "    <tr>\n",
       "      <th>2313681</th>\n",
       "      <td>2004-04-02</td>\n",
       "      <td>01:35:53.897412</td>\n",
       "      <td>61280</td>\n",
       "      <td>NaN</td>\n",
       "      <td>NaN</td>\n",
       "      <td>NaN</td>\n",
       "      <td>NaN</td>\n",
       "      <td>NaN</td>\n",
       "    </tr>\n",
       "  </tbody>\n",
       "</table>\n",
       "<p>2313682 rows × 8 columns</p>\n",
       "</div>"
      ],
      "text/plain": [
       "               date             time  epoch  moteid  temperature  humidity  \\\n",
       "0        2004-03-31  03:38:15.757551      2     1.0     122.1530  -3.91901   \n",
       "1        2004-02-28   00:59:16.02785      3     1.0      19.9884  37.09330   \n",
       "2        2004-02-28   01:03:16.33393     11     1.0      19.3024  38.46290   \n",
       "3        2004-02-28  01:06:16.013453     17     1.0      19.1652  38.80390   \n",
       "4        2004-02-28  01:06:46.778088     18     1.0      19.1750  38.83790   \n",
       "...             ...              ...    ...     ...          ...       ...   \n",
       "2313677  2004-04-02  01:14:54.164318  61274     NaN          NaN       NaN   \n",
       "2313678  2004-04-02  01:17:53.670524  61275     NaN          NaN       NaN   \n",
       "2313679  2004-04-02  01:20:52.807972  61276     NaN          NaN       NaN   \n",
       "2313680  2004-04-02  01:26:53.950342  61278     NaN          NaN       NaN   \n",
       "2313681  2004-04-02  01:35:53.897412  61280     NaN          NaN       NaN   \n",
       "\n",
       "         light  voltage  \n",
       "0        11.04  2.03397  \n",
       "1        45.08  2.69964  \n",
       "2        45.08  2.68742  \n",
       "3        45.08  2.68742  \n",
       "4        45.08  2.69964  \n",
       "...        ...      ...  \n",
       "2313677    NaN      NaN  \n",
       "2313678    NaN      NaN  \n",
       "2313679    NaN      NaN  \n",
       "2313680    NaN      NaN  \n",
       "2313681    NaN      NaN  \n",
       "\n",
       "[2313682 rows x 8 columns]"
      ]
     },
     "execution_count": 10,
     "metadata": {},
     "output_type": "execute_result"
    }
   ],
   "source": [
    "dataset = pd.read_csv(r'C:\\Users\\Eduardo\\Documents\\UFBA\\PIBIC\\Projeto\\Datasets\\intel_lab_dataset\\data_with_labels.txt', sep=' ')\n",
    "dataset"
   ]
  },
  {
   "cell_type": "code",
   "execution_count": 11,
   "metadata": {},
   "outputs": [
    {
     "data": {
      "text/plain": [
       "0"
      ]
     },
     "execution_count": 11,
     "metadata": {},
     "output_type": "execute_result"
    }
   ],
   "source": [
    "qtd_registros_duplicados = dataset.duplicated().sum()\n",
    "qtd_registros_duplicados"
   ]
  },
  {
   "cell_type": "code",
   "execution_count": 14,
   "metadata": {},
   "outputs": [],
   "source": [
    "#Dataset correto (apenas registros contendo valores para as oito variaveis e com moteid menor ou igual a 54)"
   ]
  },
  {
   "cell_type": "code",
   "execution_count": 15,
   "metadata": {},
   "outputs": [
    {
     "data": {
      "text/html": [
       "<div>\n",
       "<style scoped>\n",
       "    .dataframe tbody tr th:only-of-type {\n",
       "        vertical-align: middle;\n",
       "    }\n",
       "\n",
       "    .dataframe tbody tr th {\n",
       "        vertical-align: top;\n",
       "    }\n",
       "\n",
       "    .dataframe thead th {\n",
       "        text-align: right;\n",
       "    }\n",
       "</style>\n",
       "<table border=\"1\" class=\"dataframe\">\n",
       "  <thead>\n",
       "    <tr style=\"text-align: right;\">\n",
       "      <th></th>\n",
       "      <th>date</th>\n",
       "      <th>time</th>\n",
       "      <th>epoch</th>\n",
       "      <th>moteid</th>\n",
       "      <th>temperature</th>\n",
       "      <th>humidity</th>\n",
       "      <th>light</th>\n",
       "      <th>voltage</th>\n",
       "    </tr>\n",
       "  </thead>\n",
       "  <tbody>\n",
       "    <tr>\n",
       "      <th>0</th>\n",
       "      <td>2004-03-31</td>\n",
       "      <td>03:38:15.757551</td>\n",
       "      <td>2</td>\n",
       "      <td>1</td>\n",
       "      <td>122.1530</td>\n",
       "      <td>-3.91901</td>\n",
       "      <td>11.04</td>\n",
       "      <td>2.03397</td>\n",
       "    </tr>\n",
       "    <tr>\n",
       "      <th>1</th>\n",
       "      <td>2004-02-28</td>\n",
       "      <td>00:59:16.02785</td>\n",
       "      <td>3</td>\n",
       "      <td>1</td>\n",
       "      <td>19.9884</td>\n",
       "      <td>37.09330</td>\n",
       "      <td>45.08</td>\n",
       "      <td>2.69964</td>\n",
       "    </tr>\n",
       "    <tr>\n",
       "      <th>2</th>\n",
       "      <td>2004-02-28</td>\n",
       "      <td>01:03:16.33393</td>\n",
       "      <td>11</td>\n",
       "      <td>1</td>\n",
       "      <td>19.3024</td>\n",
       "      <td>38.46290</td>\n",
       "      <td>45.08</td>\n",
       "      <td>2.68742</td>\n",
       "    </tr>\n",
       "    <tr>\n",
       "      <th>3</th>\n",
       "      <td>2004-02-28</td>\n",
       "      <td>01:06:16.013453</td>\n",
       "      <td>17</td>\n",
       "      <td>1</td>\n",
       "      <td>19.1652</td>\n",
       "      <td>38.80390</td>\n",
       "      <td>45.08</td>\n",
       "      <td>2.68742</td>\n",
       "    </tr>\n",
       "    <tr>\n",
       "      <th>4</th>\n",
       "      <td>2004-02-28</td>\n",
       "      <td>01:06:46.778088</td>\n",
       "      <td>18</td>\n",
       "      <td>1</td>\n",
       "      <td>19.1750</td>\n",
       "      <td>38.83790</td>\n",
       "      <td>45.08</td>\n",
       "      <td>2.69964</td>\n",
       "    </tr>\n",
       "    <tr>\n",
       "      <th>...</th>\n",
       "      <td>...</td>\n",
       "      <td>...</td>\n",
       "      <td>...</td>\n",
       "      <td>...</td>\n",
       "      <td>...</td>\n",
       "      <td>...</td>\n",
       "      <td>...</td>\n",
       "      <td>...</td>\n",
       "    </tr>\n",
       "    <tr>\n",
       "      <th>2210079</th>\n",
       "      <td>2004-03-21</td>\n",
       "      <td>18:53:27.558979</td>\n",
       "      <td>65510</td>\n",
       "      <td>54</td>\n",
       "      <td>21.4780</td>\n",
       "      <td>47.63610</td>\n",
       "      <td>0.46</td>\n",
       "      <td>2.35683</td>\n",
       "    </tr>\n",
       "    <tr>\n",
       "      <th>2210080</th>\n",
       "      <td>2004-03-21</td>\n",
       "      <td>18:54:43.117051</td>\n",
       "      <td>65512</td>\n",
       "      <td>54</td>\n",
       "      <td>21.4780</td>\n",
       "      <td>47.63610</td>\n",
       "      <td>0.46</td>\n",
       "      <td>2.34751</td>\n",
       "    </tr>\n",
       "    <tr>\n",
       "      <th>2210081</th>\n",
       "      <td>2004-03-21</td>\n",
       "      <td>18:57:30.336879</td>\n",
       "      <td>65518</td>\n",
       "      <td>54</td>\n",
       "      <td>21.4192</td>\n",
       "      <td>47.66870</td>\n",
       "      <td>0.46</td>\n",
       "      <td>2.34751</td>\n",
       "    </tr>\n",
       "    <tr>\n",
       "      <th>2210082</th>\n",
       "      <td>2004-03-21</td>\n",
       "      <td>18:59:36.673512</td>\n",
       "      <td>65522</td>\n",
       "      <td>54</td>\n",
       "      <td>21.3996</td>\n",
       "      <td>47.70130</td>\n",
       "      <td>0.46</td>\n",
       "      <td>2.34751</td>\n",
       "    </tr>\n",
       "    <tr>\n",
       "      <th>2210083</th>\n",
       "      <td>2004-03-21</td>\n",
       "      <td>19:02:56.249587</td>\n",
       "      <td>65529</td>\n",
       "      <td>54</td>\n",
       "      <td>21.3604</td>\n",
       "      <td>47.83150</td>\n",
       "      <td>0.46</td>\n",
       "      <td>2.34751</td>\n",
       "    </tr>\n",
       "  </tbody>\n",
       "</table>\n",
       "<p>2210084 rows × 8 columns</p>\n",
       "</div>"
      ],
      "text/plain": [
       "               date             time  epoch  moteid  temperature  humidity  \\\n",
       "0        2004-03-31  03:38:15.757551      2       1     122.1530  -3.91901   \n",
       "1        2004-02-28   00:59:16.02785      3       1      19.9884  37.09330   \n",
       "2        2004-02-28   01:03:16.33393     11       1      19.3024  38.46290   \n",
       "3        2004-02-28  01:06:16.013453     17       1      19.1652  38.80390   \n",
       "4        2004-02-28  01:06:46.778088     18       1      19.1750  38.83790   \n",
       "...             ...              ...    ...     ...          ...       ...   \n",
       "2210079  2004-03-21  18:53:27.558979  65510      54      21.4780  47.63610   \n",
       "2210080  2004-03-21  18:54:43.117051  65512      54      21.4780  47.63610   \n",
       "2210081  2004-03-21  18:57:30.336879  65518      54      21.4192  47.66870   \n",
       "2210082  2004-03-21  18:59:36.673512  65522      54      21.3996  47.70130   \n",
       "2210083  2004-03-21  19:02:56.249587  65529      54      21.3604  47.83150   \n",
       "\n",
       "         light  voltage  \n",
       "0        11.04  2.03397  \n",
       "1        45.08  2.69964  \n",
       "2        45.08  2.68742  \n",
       "3        45.08  2.68742  \n",
       "4        45.08  2.69964  \n",
       "...        ...      ...  \n",
       "2210079   0.46  2.35683  \n",
       "2210080   0.46  2.34751  \n",
       "2210081   0.46  2.34751  \n",
       "2210082   0.46  2.34751  \n",
       "2210083   0.46  2.34751  \n",
       "\n",
       "[2210084 rows x 8 columns]"
      ]
     },
     "execution_count": 15,
     "metadata": {},
     "output_type": "execute_result"
    }
   ],
   "source": [
    "right_dataset = pd.read_csv(r'C:\\Users\\Eduardo\\Documents\\UFBA\\PIBIC\\Projeto\\Datasets\\intel_lab_dataset\\right_data_with_labels.txt', sep=' ')\n",
    "right_dataset"
   ]
  },
  {
   "cell_type": "code",
   "execution_count": 17,
   "metadata": {},
   "outputs": [],
   "source": [
    "#Dataset incompleto (apenas registros que nao contem valores para todas as oito variaveis)"
   ]
  },
  {
   "cell_type": "code",
   "execution_count": 18,
   "metadata": {},
   "outputs": [
    {
     "data": {
      "text/html": [
       "<div>\n",
       "<style scoped>\n",
       "    .dataframe tbody tr th:only-of-type {\n",
       "        vertical-align: middle;\n",
       "    }\n",
       "\n",
       "    .dataframe tbody tr th {\n",
       "        vertical-align: top;\n",
       "    }\n",
       "\n",
       "    .dataframe thead th {\n",
       "        text-align: right;\n",
       "    }\n",
       "</style>\n",
       "<table border=\"1\" class=\"dataframe\">\n",
       "  <thead>\n",
       "    <tr style=\"text-align: right;\">\n",
       "      <th></th>\n",
       "      <th>date</th>\n",
       "      <th>time</th>\n",
       "      <th>epoch</th>\n",
       "      <th>moteid</th>\n",
       "      <th>temperature</th>\n",
       "      <th>humidity</th>\n",
       "      <th>light</th>\n",
       "      <th>voltage</th>\n",
       "    </tr>\n",
       "  </thead>\n",
       "  <tbody>\n",
       "    <tr>\n",
       "      <th>0</th>\n",
       "      <td>2004-03-30</td>\n",
       "      <td>08:11:56.681052</td>\n",
       "      <td>53671</td>\n",
       "      <td>3.0</td>\n",
       "      <td>NaN</td>\n",
       "      <td>NaN</td>\n",
       "      <td>NaN</td>\n",
       "      <td>2.19970</td>\n",
       "    </tr>\n",
       "    <tr>\n",
       "      <th>1</th>\n",
       "      <td>2004-02-28</td>\n",
       "      <td>02:21:16.59372</td>\n",
       "      <td>167</td>\n",
       "      <td>5.0</td>\n",
       "      <td>NaN</td>\n",
       "      <td>NaN</td>\n",
       "      <td>NaN</td>\n",
       "      <td>2.69964</td>\n",
       "    </tr>\n",
       "    <tr>\n",
       "      <th>2</th>\n",
       "      <td>2004-02-28</td>\n",
       "      <td>03:42:46.678899</td>\n",
       "      <td>330</td>\n",
       "      <td>5.0</td>\n",
       "      <td>NaN</td>\n",
       "      <td>NaN</td>\n",
       "      <td>NaN</td>\n",
       "      <td>2.67532</td>\n",
       "    </tr>\n",
       "    <tr>\n",
       "      <th>3</th>\n",
       "      <td>2004-02-28</td>\n",
       "      <td>05:20:16.549645</td>\n",
       "      <td>525</td>\n",
       "      <td>5.0</td>\n",
       "      <td>NaN</td>\n",
       "      <td>NaN</td>\n",
       "      <td>NaN</td>\n",
       "      <td>2.65143</td>\n",
       "    </tr>\n",
       "    <tr>\n",
       "      <th>4</th>\n",
       "      <td>2004-02-28</td>\n",
       "      <td>09:32:47.471012</td>\n",
       "      <td>1030</td>\n",
       "      <td>5.0</td>\n",
       "      <td>NaN</td>\n",
       "      <td>NaN</td>\n",
       "      <td>NaN</td>\n",
       "      <td>2.65143</td>\n",
       "    </tr>\n",
       "    <tr>\n",
       "      <th>...</th>\n",
       "      <td>...</td>\n",
       "      <td>...</td>\n",
       "      <td>...</td>\n",
       "      <td>...</td>\n",
       "      <td>...</td>\n",
       "      <td>...</td>\n",
       "      <td>...</td>\n",
       "      <td>...</td>\n",
       "    </tr>\n",
       "    <tr>\n",
       "      <th>93874</th>\n",
       "      <td>2004-04-02</td>\n",
       "      <td>01:14:54.164318</td>\n",
       "      <td>61274</td>\n",
       "      <td>NaN</td>\n",
       "      <td>NaN</td>\n",
       "      <td>NaN</td>\n",
       "      <td>NaN</td>\n",
       "      <td>NaN</td>\n",
       "    </tr>\n",
       "    <tr>\n",
       "      <th>93875</th>\n",
       "      <td>2004-04-02</td>\n",
       "      <td>01:17:53.670524</td>\n",
       "      <td>61275</td>\n",
       "      <td>NaN</td>\n",
       "      <td>NaN</td>\n",
       "      <td>NaN</td>\n",
       "      <td>NaN</td>\n",
       "      <td>NaN</td>\n",
       "    </tr>\n",
       "    <tr>\n",
       "      <th>93876</th>\n",
       "      <td>2004-04-02</td>\n",
       "      <td>01:20:52.807972</td>\n",
       "      <td>61276</td>\n",
       "      <td>NaN</td>\n",
       "      <td>NaN</td>\n",
       "      <td>NaN</td>\n",
       "      <td>NaN</td>\n",
       "      <td>NaN</td>\n",
       "    </tr>\n",
       "    <tr>\n",
       "      <th>93877</th>\n",
       "      <td>2004-04-02</td>\n",
       "      <td>01:26:53.950342</td>\n",
       "      <td>61278</td>\n",
       "      <td>NaN</td>\n",
       "      <td>NaN</td>\n",
       "      <td>NaN</td>\n",
       "      <td>NaN</td>\n",
       "      <td>NaN</td>\n",
       "    </tr>\n",
       "    <tr>\n",
       "      <th>93878</th>\n",
       "      <td>2004-04-02</td>\n",
       "      <td>01:35:53.897412</td>\n",
       "      <td>61280</td>\n",
       "      <td>NaN</td>\n",
       "      <td>NaN</td>\n",
       "      <td>NaN</td>\n",
       "      <td>NaN</td>\n",
       "      <td>NaN</td>\n",
       "    </tr>\n",
       "  </tbody>\n",
       "</table>\n",
       "<p>93879 rows × 8 columns</p>\n",
       "</div>"
      ],
      "text/plain": [
       "             date             time  epoch  moteid  temperature  humidity  \\\n",
       "0      2004-03-30  08:11:56.681052  53671     3.0          NaN       NaN   \n",
       "1      2004-02-28   02:21:16.59372    167     5.0          NaN       NaN   \n",
       "2      2004-02-28  03:42:46.678899    330     5.0          NaN       NaN   \n",
       "3      2004-02-28  05:20:16.549645    525     5.0          NaN       NaN   \n",
       "4      2004-02-28  09:32:47.471012   1030     5.0          NaN       NaN   \n",
       "...           ...              ...    ...     ...          ...       ...   \n",
       "93874  2004-04-02  01:14:54.164318  61274     NaN          NaN       NaN   \n",
       "93875  2004-04-02  01:17:53.670524  61275     NaN          NaN       NaN   \n",
       "93876  2004-04-02  01:20:52.807972  61276     NaN          NaN       NaN   \n",
       "93877  2004-04-02  01:26:53.950342  61278     NaN          NaN       NaN   \n",
       "93878  2004-04-02  01:35:53.897412  61280     NaN          NaN       NaN   \n",
       "\n",
       "       light  voltage  \n",
       "0        NaN  2.19970  \n",
       "1        NaN  2.69964  \n",
       "2        NaN  2.67532  \n",
       "3        NaN  2.65143  \n",
       "4        NaN  2.65143  \n",
       "...      ...      ...  \n",
       "93874    NaN      NaN  \n",
       "93875    NaN      NaN  \n",
       "93876    NaN      NaN  \n",
       "93877    NaN      NaN  \n",
       "93878    NaN      NaN  \n",
       "\n",
       "[93879 rows x 8 columns]"
      ]
     },
     "execution_count": 18,
     "metadata": {},
     "output_type": "execute_result"
    }
   ],
   "source": [
    "incomplete_dataset = pd.read_csv(r'C:\\Users\\Eduardo\\Documents\\UFBA\\PIBIC\\Projeto\\Datasets\\intel_lab_dataset\\incomplete_data_with_labels.txt', sep=' ')\n",
    "incomplete_dataset"
   ]
  },
  {
   "cell_type": "code",
   "execution_count": 19,
   "metadata": {},
   "outputs": [],
   "source": [
    "#Dataset inconsistente (apenas registros que contem moteid maior que 54)"
   ]
  },
  {
   "cell_type": "code",
   "execution_count": 20,
   "metadata": {},
   "outputs": [
    {
     "data": {
      "text/html": [
       "<div>\n",
       "<style scoped>\n",
       "    .dataframe tbody tr th:only-of-type {\n",
       "        vertical-align: middle;\n",
       "    }\n",
       "\n",
       "    .dataframe tbody tr th {\n",
       "        vertical-align: top;\n",
       "    }\n",
       "\n",
       "    .dataframe thead th {\n",
       "        text-align: right;\n",
       "    }\n",
       "</style>\n",
       "<table border=\"1\" class=\"dataframe\">\n",
       "  <thead>\n",
       "    <tr style=\"text-align: right;\">\n",
       "      <th></th>\n",
       "      <th>date</th>\n",
       "      <th>time</th>\n",
       "      <th>epoch</th>\n",
       "      <th>moteid</th>\n",
       "      <th>temperature</th>\n",
       "      <th>humidity</th>\n",
       "      <th>light</th>\n",
       "      <th>voltage</th>\n",
       "    </tr>\n",
       "  </thead>\n",
       "  <tbody>\n",
       "    <tr>\n",
       "      <th>0</th>\n",
       "      <td>2004-03-11</td>\n",
       "      <td>16:52:19.794238</td>\n",
       "      <td>2</td>\n",
       "      <td>55</td>\n",
       "      <td>26.2114</td>\n",
       "      <td>43.4524</td>\n",
       "      <td>97.52</td>\n",
       "      <td>3.04574</td>\n",
       "    </tr>\n",
       "    <tr>\n",
       "      <th>1</th>\n",
       "      <td>2004-03-12</td>\n",
       "      <td>09:15:21.526642</td>\n",
       "      <td>2</td>\n",
       "      <td>55</td>\n",
       "      <td>22.0170</td>\n",
       "      <td>41.7805</td>\n",
       "      <td>279.68</td>\n",
       "      <td>3.04574</td>\n",
       "    </tr>\n",
       "    <tr>\n",
       "      <th>2</th>\n",
       "      <td>2004-03-11</td>\n",
       "      <td>17:19:23.925033</td>\n",
       "      <td>2</td>\n",
       "      <td>55</td>\n",
       "      <td>25.4274</td>\n",
       "      <td>33.3507</td>\n",
       "      <td>93.84</td>\n",
       "      <td>3.03020</td>\n",
       "    </tr>\n",
       "    <tr>\n",
       "      <th>3</th>\n",
       "      <td>2004-03-11</td>\n",
       "      <td>17:15:52.136107</td>\n",
       "      <td>2</td>\n",
       "      <td>55</td>\n",
       "      <td>25.0158</td>\n",
       "      <td>33.9790</td>\n",
       "      <td>97.52</td>\n",
       "      <td>3.03020</td>\n",
       "    </tr>\n",
       "    <tr>\n",
       "      <th>4</th>\n",
       "      <td>2004-03-11</td>\n",
       "      <td>16:53:15.807424</td>\n",
       "      <td>4</td>\n",
       "      <td>55</td>\n",
       "      <td>26.2800</td>\n",
       "      <td>35.2995</td>\n",
       "      <td>217.12</td>\n",
       "      <td>3.03020</td>\n",
       "    </tr>\n",
       "    <tr>\n",
       "      <th>...</th>\n",
       "      <td>...</td>\n",
       "      <td>...</td>\n",
       "      <td>...</td>\n",
       "      <td>...</td>\n",
       "      <td>...</td>\n",
       "      <td>...</td>\n",
       "      <td>...</td>\n",
       "      <td>...</td>\n",
       "    </tr>\n",
       "    <tr>\n",
       "      <th>9714</th>\n",
       "      <td>2004-04-02</td>\n",
       "      <td>09:06:21.488182</td>\n",
       "      <td>62421</td>\n",
       "      <td>58</td>\n",
       "      <td>24.1730</td>\n",
       "      <td>21.6575</td>\n",
       "      <td>1729.60</td>\n",
       "      <td>2.78836</td>\n",
       "    </tr>\n",
       "    <tr>\n",
       "      <th>9715</th>\n",
       "      <td>2004-04-02</td>\n",
       "      <td>09:07:22.173243</td>\n",
       "      <td>62423</td>\n",
       "      <td>58</td>\n",
       "      <td>24.1436</td>\n",
       "      <td>21.7310</td>\n",
       "      <td>1729.60</td>\n",
       "      <td>2.78836</td>\n",
       "    </tr>\n",
       "    <tr>\n",
       "      <th>9716</th>\n",
       "      <td>2004-04-02</td>\n",
       "      <td>09:07:52.31387</td>\n",
       "      <td>62424</td>\n",
       "      <td>58</td>\n",
       "      <td>24.1436</td>\n",
       "      <td>21.6575</td>\n",
       "      <td>1670.72</td>\n",
       "      <td>2.78836</td>\n",
       "    </tr>\n",
       "    <tr>\n",
       "      <th>9717</th>\n",
       "      <td>2004-04-02</td>\n",
       "      <td>09:08:52.189274</td>\n",
       "      <td>62426</td>\n",
       "      <td>58</td>\n",
       "      <td>24.1240</td>\n",
       "      <td>21.5839</td>\n",
       "      <td>1670.72</td>\n",
       "      <td>2.78836</td>\n",
       "    </tr>\n",
       "    <tr>\n",
       "      <th>9718</th>\n",
       "      <td>2004-04-02</td>\n",
       "      <td>09:09:22.206544</td>\n",
       "      <td>62427</td>\n",
       "      <td>58</td>\n",
       "      <td>24.1044</td>\n",
       "      <td>21.4367</td>\n",
       "      <td>1729.60</td>\n",
       "      <td>2.78836</td>\n",
       "    </tr>\n",
       "  </tbody>\n",
       "</table>\n",
       "<p>9719 rows × 8 columns</p>\n",
       "</div>"
      ],
      "text/plain": [
       "            date             time  epoch  moteid  temperature  humidity  \\\n",
       "0     2004-03-11  16:52:19.794238      2      55      26.2114   43.4524   \n",
       "1     2004-03-12  09:15:21.526642      2      55      22.0170   41.7805   \n",
       "2     2004-03-11  17:19:23.925033      2      55      25.4274   33.3507   \n",
       "3     2004-03-11  17:15:52.136107      2      55      25.0158   33.9790   \n",
       "4     2004-03-11  16:53:15.807424      4      55      26.2800   35.2995   \n",
       "...          ...              ...    ...     ...          ...       ...   \n",
       "9714  2004-04-02  09:06:21.488182  62421      58      24.1730   21.6575   \n",
       "9715  2004-04-02  09:07:22.173243  62423      58      24.1436   21.7310   \n",
       "9716  2004-04-02   09:07:52.31387  62424      58      24.1436   21.6575   \n",
       "9717  2004-04-02  09:08:52.189274  62426      58      24.1240   21.5839   \n",
       "9718  2004-04-02  09:09:22.206544  62427      58      24.1044   21.4367   \n",
       "\n",
       "        light  voltage  \n",
       "0       97.52  3.04574  \n",
       "1      279.68  3.04574  \n",
       "2       93.84  3.03020  \n",
       "3       97.52  3.03020  \n",
       "4      217.12  3.03020  \n",
       "...       ...      ...  \n",
       "9714  1729.60  2.78836  \n",
       "9715  1729.60  2.78836  \n",
       "9716  1670.72  2.78836  \n",
       "9717  1670.72  2.78836  \n",
       "9718  1729.60  2.78836  \n",
       "\n",
       "[9719 rows x 8 columns]"
      ]
     },
     "execution_count": 20,
     "metadata": {},
     "output_type": "execute_result"
    }
   ],
   "source": [
    "inconsistent_dataset = pd.read_csv(r'C:\\Users\\Eduardo\\Documents\\UFBA\\PIBIC\\Projeto\\Datasets\\intel_lab_dataset\\inconsistent_data_with_labels.txt', sep=' ')\n",
    "inconsistent_dataset"
   ]
  },
  {
   "cell_type": "code",
   "execution_count": 70,
   "metadata": {},
   "outputs": [],
   "source": [
    "#Estatisticas gerais"
   ]
  },
  {
   "cell_type": "code",
   "execution_count": 71,
   "metadata": {},
   "outputs": [
    {
     "data": {
      "text/html": [
       "<div>\n",
       "<style scoped>\n",
       "    .dataframe tbody tr th:only-of-type {\n",
       "        vertical-align: middle;\n",
       "    }\n",
       "\n",
       "    .dataframe tbody tr th {\n",
       "        vertical-align: top;\n",
       "    }\n",
       "\n",
       "    .dataframe thead th {\n",
       "        text-align: right;\n",
       "    }\n",
       "</style>\n",
       "<table border=\"1\" class=\"dataframe\">\n",
       "  <thead>\n",
       "    <tr style=\"text-align: right;\">\n",
       "      <th></th>\n",
       "      <th>temperature</th>\n",
       "      <th>humidity</th>\n",
       "      <th>light</th>\n",
       "      <th>voltage</th>\n",
       "    </tr>\n",
       "  </thead>\n",
       "  <tbody>\n",
       "    <tr>\n",
       "      <th>count</th>\n",
       "      <td>2.210084e+06</td>\n",
       "      <td>2.210084e+06</td>\n",
       "      <td>2.210084e+06</td>\n",
       "      <td>2.210084e+06</td>\n",
       "    </tr>\n",
       "    <tr>\n",
       "      <th>mean</th>\n",
       "      <td>3.931401e+01</td>\n",
       "      <td>3.370669e+01</td>\n",
       "      <td>4.076119e+02</td>\n",
       "      <td>2.488983e+00</td>\n",
       "    </tr>\n",
       "    <tr>\n",
       "      <th>std</th>\n",
       "      <td>3.748325e+01</td>\n",
       "      <td>1.726761e+01</td>\n",
       "      <td>5.401490e+02</td>\n",
       "      <td>1.769051e-01</td>\n",
       "    </tr>\n",
       "    <tr>\n",
       "      <th>min</th>\n",
       "      <td>-3.840000e+01</td>\n",
       "      <td>-8.983130e+03</td>\n",
       "      <td>0.000000e+00</td>\n",
       "      <td>9.100830e-03</td>\n",
       "    </tr>\n",
       "    <tr>\n",
       "      <th>25%</th>\n",
       "      <td>2.046860e+01</td>\n",
       "      <td>3.180720e+01</td>\n",
       "      <td>3.956000e+01</td>\n",
       "      <td>2.385220e+00</td>\n",
       "    </tr>\n",
       "    <tr>\n",
       "      <th>50%</th>\n",
       "      <td>2.247760e+01</td>\n",
       "      <td>3.921230e+01</td>\n",
       "      <td>1.582400e+02</td>\n",
       "      <td>2.527320e+00</td>\n",
       "    </tr>\n",
       "    <tr>\n",
       "      <th>75%</th>\n",
       "      <td>2.702480e+01</td>\n",
       "      <td>4.348570e+01</td>\n",
       "      <td>5.667200e+02</td>\n",
       "      <td>2.627960e+00</td>\n",
       "    </tr>\n",
       "    <tr>\n",
       "      <th>max</th>\n",
       "      <td>3.855680e+02</td>\n",
       "      <td>1.375120e+02</td>\n",
       "      <td>1.847360e+03</td>\n",
       "      <td>3.159150e+00</td>\n",
       "    </tr>\n",
       "  </tbody>\n",
       "</table>\n",
       "</div>"
      ],
      "text/plain": [
       "        temperature      humidity         light       voltage\n",
       "count  2.210084e+06  2.210084e+06  2.210084e+06  2.210084e+06\n",
       "mean   3.931401e+01  3.370669e+01  4.076119e+02  2.488983e+00\n",
       "std    3.748325e+01  1.726761e+01  5.401490e+02  1.769051e-01\n",
       "min   -3.840000e+01 -8.983130e+03  0.000000e+00  9.100830e-03\n",
       "25%    2.046860e+01  3.180720e+01  3.956000e+01  2.385220e+00\n",
       "50%    2.247760e+01  3.921230e+01  1.582400e+02  2.527320e+00\n",
       "75%    2.702480e+01  4.348570e+01  5.667200e+02  2.627960e+00\n",
       "max    3.855680e+02  1.375120e+02  1.847360e+03  3.159150e+00"
      ]
     },
     "execution_count": 71,
     "metadata": {},
     "output_type": "execute_result"
    }
   ],
   "source": [
    "right_dataset.drop(columns=['epoch','moteid']).describe()"
   ]
  },
  {
   "cell_type": "code",
   "execution_count": 21,
   "metadata": {},
   "outputs": [],
   "source": [
    "#Medidas de distribuicao (obliquidade e curtose)"
   ]
  },
  {
   "cell_type": "code",
   "execution_count": 22,
   "metadata": {},
   "outputs": [
    {
     "name": "stdout",
     "output_type": "stream",
     "text": [
      "1.7058121095822867\n"
     ]
    }
   ],
   "source": [
    "print(skew(right_dataset.temperature))"
   ]
  },
  {
   "cell_type": "code",
   "execution_count": 23,
   "metadata": {},
   "outputs": [
    {
     "name": "stdout",
     "output_type": "stream",
     "text": [
      "1.0078785610312275\n"
     ]
    }
   ],
   "source": [
    "print(kurtosis(right_dataset.temperature))"
   ]
  },
  {
   "cell_type": "code",
   "execution_count": 24,
   "metadata": {},
   "outputs": [
    {
     "name": "stdout",
     "output_type": "stream",
     "text": [
      "-66.17908188115858\n"
     ]
    }
   ],
   "source": [
    "print(skew(right_dataset.humidity))"
   ]
  },
  {
   "cell_type": "code",
   "execution_count": 25,
   "metadata": {},
   "outputs": [
    {
     "name": "stdout",
     "output_type": "stream",
     "text": [
      "33707.27269136187\n"
     ]
    }
   ],
   "source": [
    "print(kurtosis(right_dataset.humidity))"
   ]
  },
  {
   "cell_type": "code",
   "execution_count": 26,
   "metadata": {},
   "outputs": [
    {
     "name": "stdout",
     "output_type": "stream",
     "text": [
      "1.5893754236331306\n"
     ]
    }
   ],
   "source": [
    "print(skew(right_dataset.light))"
   ]
  },
  {
   "cell_type": "code",
   "execution_count": 27,
   "metadata": {},
   "outputs": [
    {
     "name": "stdout",
     "output_type": "stream",
     "text": [
      "1.375962317513113\n"
     ]
    }
   ],
   "source": [
    "print(kurtosis(right_dataset.light))"
   ]
  },
  {
   "cell_type": "code",
   "execution_count": 28,
   "metadata": {},
   "outputs": [
    {
     "name": "stdout",
     "output_type": "stream",
     "text": [
      "-0.7254117836269773\n"
     ]
    }
   ],
   "source": [
    "print(skew(right_dataset.voltage))"
   ]
  },
  {
   "cell_type": "code",
   "execution_count": 29,
   "metadata": {},
   "outputs": [
    {
     "name": "stdout",
     "output_type": "stream",
     "text": [
      "-0.31971581188187725\n"
     ]
    }
   ],
   "source": [
    "print(kurtosis(right_dataset.voltage))"
   ]
  },
  {
   "cell_type": "code",
   "execution_count": 30,
   "metadata": {},
   "outputs": [],
   "source": [
    "#Histogramas"
   ]
  },
  {
   "cell_type": "code",
   "execution_count": 31,
   "metadata": {},
   "outputs": [
    {
     "name": "stderr",
     "output_type": "stream",
     "text": [
      "c:\\Users\\Eduardo\\anaconda3\\Lib\\site-packages\\seaborn\\_oldcore.py:1119: FutureWarning: use_inf_as_na option is deprecated and will be removed in a future version. Convert inf values to NaN before operating instead.\n",
      "  with pd.option_context('mode.use_inf_as_na', True):\n"
     ]
    },
    {
     "data": {
      "image/png": "[encoded data removed]",
      "text/plain": [
       "<Figure size 800x1000 with 1 Axes>"
      ]
     },
     "metadata": {},
     "output_type": "display_data"
    }
   ],
   "source": [
    "plotar_histograma(right_dataset.temperature)"
   ]
  },
  {
   "cell_type": "code",
   "execution_count": 32,
   "metadata": {},
   "outputs": [
    {
     "name": "stderr",
     "output_type": "stream",
     "text": [
      "c:\\Users\\Eduardo\\anaconda3\\Lib\\site-packages\\seaborn\\_oldcore.py:1119: FutureWarning: use_inf_as_na option is deprecated and will be removed in a future version. Convert inf values to NaN before operating instead.\n",
      "  with pd.option_context('mode.use_inf_as_na', True):\n"
     ]
    },
    {
     "data": {
      "image/png": "[encoded data removed]",
      "text/plain": [
       "<Figure size 800x1000 with 1 Axes>"
      ]
     },
     "metadata": {},
     "output_type": "display_data"
    }
   ],
   "source": [
    "plotar_histograma(right_dataset.humidity)"
   ]
  },
  {
   "cell_type": "code",
   "execution_count": 33,
   "metadata": {},
   "outputs": [
    {
     "name": "stderr",
     "output_type": "stream",
     "text": [
      "c:\\Users\\Eduardo\\anaconda3\\Lib\\site-packages\\seaborn\\_oldcore.py:1119: FutureWarning: use_inf_as_na option is deprecated and will be removed in a future version. Convert inf values to NaN before operating instead.\n",
      "  with pd.option_context('mode.use_inf_as_na', True):\n"
     ]
    },
    {
     "data": {
      "image/png": "[encoded data removed]",
      "text/plain": [
       "<Figure size 800x1000 with 1 Axes>"
      ]
     },
     "metadata": {},
     "output_type": "display_data"
    }
   ],
   "source": [
    "plotar_histograma(right_dataset.light)"
   ]
  },
  {
   "cell_type": "code",
   "execution_count": 34,
   "metadata": {},
   "outputs": [
    {
     "name": "stderr",
     "output_type": "stream",
     "text": [
      "c:\\Users\\Eduardo\\anaconda3\\Lib\\site-packages\\seaborn\\_oldcore.py:1119: FutureWarning: use_inf_as_na option is deprecated and will be removed in a future version. Convert inf values to NaN before operating instead.\n",
      "  with pd.option_context('mode.use_inf_as_na', True):\n"
     ]
    },
    {
     "data": {
      "image/png": "[encoded data removed]",
      "text/plain": [
       "<Figure size 800x1000 with 1 Axes>"
      ]
     },
     "metadata": {},
     "output_type": "display_data"
    }
   ],
   "source": [
    "plotar_histograma(right_dataset.voltage)"
   ]
  },
  {
   "cell_type": "code",
   "execution_count": 35,
   "metadata": {},
   "outputs": [],
   "source": [
    "#Valores de correlação entre variaveis"
   ]
  },
  {
   "cell_type": "code",
   "execution_count": 36,
   "metadata": {},
   "outputs": [
    {
     "data": {
      "text/plain": [
       "-0.7283744402871417"
      ]
     },
     "execution_count": 36,
     "metadata": {},
     "output_type": "execute_result"
    }
   ],
   "source": [
    "right_dataset.temperature.corr(right_dataset.humidity)"
   ]
  },
  {
   "cell_type": "code",
   "execution_count": 37,
   "metadata": {},
   "outputs": [
    {
     "data": {
      "text/plain": [
       "0.02141893230002063"
      ]
     },
     "execution_count": 37,
     "metadata": {},
     "output_type": "execute_result"
    }
   ],
   "source": [
    "right_dataset.temperature.corr(right_dataset.light)"
   ]
  },
  {
   "cell_type": "code",
   "execution_count": 38,
   "metadata": {},
   "outputs": [
    {
     "data": {
      "text/plain": [
       "-0.766690703716798"
      ]
     },
     "execution_count": 38,
     "metadata": {},
     "output_type": "execute_result"
    }
   ],
   "source": [
    "right_dataset.temperature.corr(right_dataset.voltage)"
   ]
  },
  {
   "cell_type": "code",
   "execution_count": 39,
   "metadata": {},
   "outputs": [
    {
     "data": {
      "text/plain": [
       "-0.09139743544361283"
      ]
     },
     "execution_count": 39,
     "metadata": {},
     "output_type": "execute_result"
    }
   ],
   "source": [
    "right_dataset.humidity.corr(right_dataset.light)"
   ]
  },
  {
   "cell_type": "code",
   "execution_count": 40,
   "metadata": {},
   "outputs": [
    {
     "data": {
      "text/plain": [
       "0.5364481625083846"
      ]
     },
     "execution_count": 40,
     "metadata": {},
     "output_type": "execute_result"
    }
   ],
   "source": [
    "right_dataset.humidity.corr(right_dataset.voltage)"
   ]
  },
  {
   "cell_type": "code",
   "execution_count": 41,
   "metadata": {},
   "outputs": [
    {
     "data": {
      "text/plain": [
       "0.0670157872402278"
      ]
     },
     "execution_count": 41,
     "metadata": {},
     "output_type": "execute_result"
    }
   ],
   "source": [
    "right_dataset.light.corr(right_dataset.voltage)"
   ]
  },
  {
   "cell_type": "code",
   "execution_count": 42,
   "metadata": {},
   "outputs": [],
   "source": [
    "#Boxplots"
   ]
  },
  {
   "cell_type": "code",
   "execution_count": 43,
   "metadata": {},
   "outputs": [
    {
     "data": {
      "image/png": "[encoded data removed]",
      "text/plain": [
       "<Figure size 800x1000 with 1 Axes>"
      ]
     },
     "metadata": {},
     "output_type": "display_data"
    }
   ],
   "source": [
    "plotar_boxplot(right_dataset.temperature)"
   ]
  },
  {
   "cell_type": "code",
   "execution_count": 44,
   "metadata": {},
   "outputs": [
    {
     "data": {
      "image/png": "[encoded data removed]",
      "text/plain": [
       "<Figure size 800x1000 with 1 Axes>"
      ]
     },
     "metadata": {},
     "output_type": "display_data"
    }
   ],
   "source": [
    "plotar_boxplot(right_dataset.humidity)"
   ]
  },
  {
   "cell_type": "code",
   "execution_count": 45,
   "metadata": {},
   "outputs": [
    {
     "data": {
      "image/png": "[encoded data removed]",
      "text/plain": [
       "<Figure size 800x1000 with 1 Axes>"
      ]
     },
     "metadata": {},
     "output_type": "display_data"
    }
   ],
   "source": [
    "plotar_boxplot(right_dataset.light)"
   ]
  },
  {
   "cell_type": "code",
   "execution_count": 46,
   "metadata": {},
   "outputs": [
    {
     "data": {
      "image/png": "[encoded data removed]",
      "text/plain": [
       "<Figure size 800x1000 with 1 Axes>"
      ]
     },
     "metadata": {},
     "output_type": "display_data"
    }
   ],
   "source": [
    "plotar_boxplot(right_dataset.voltage)"
   ]
  },
  {
   "cell_type": "code",
   "execution_count": 47,
   "metadata": {},
   "outputs": [],
   "source": [
    "#Grafico de setores registros completos x registros incompletos x registros inconsistentes"
   ]
  },
  {
   "cell_type": "code",
   "execution_count": 48,
   "metadata": {},
   "outputs": [
    {
     "data": {
      "text/plain": [
       "2313682"
      ]
     },
     "execution_count": 48,
     "metadata": {},
     "output_type": "execute_result"
    }
   ],
   "source": [
    "#numero de registros total\n",
    "len(dataset.index)"
   ]
  },
  {
   "cell_type": "code",
   "execution_count": 49,
   "metadata": {},
   "outputs": [
    {
     "data": {
      "text/plain": [
       "2210084"
      ]
     },
     "execution_count": 49,
     "metadata": {},
     "output_type": "execute_result"
    }
   ],
   "source": [
    "#numero de registros completos\n",
    "len(right_dataset.index)"
   ]
  },
  {
   "cell_type": "code",
   "execution_count": 50,
   "metadata": {},
   "outputs": [
    {
     "data": {
      "text/plain": [
       "93879"
      ]
     },
     "execution_count": 50,
     "metadata": {},
     "output_type": "execute_result"
    }
   ],
   "source": [
    "#numero de registros incompletos\n",
    "len(incomplete_dataset.index)"
   ]
  },
  {
   "cell_type": "code",
   "execution_count": 51,
   "metadata": {},
   "outputs": [
    {
     "data": {
      "text/plain": [
       "9719"
      ]
     },
     "execution_count": 51,
     "metadata": {},
     "output_type": "execute_result"
    }
   ],
   "source": [
    "#numero de registros inconsistentes\n",
    "len(inconsistent_dataset.index)"
   ]
  },
  {
   "cell_type": "code",
   "execution_count": 52,
   "metadata": {},
   "outputs": [
    {
     "data": {
      "text/plain": [
       "0.9552237515786526"
      ]
     },
     "execution_count": 52,
     "metadata": {},
     "output_type": "execute_result"
    }
   ],
   "source": [
    "proporcao_completos = len(right_dataset.index)/len(dataset.index)\n",
    "proporcao_completos"
   ]
  },
  {
   "cell_type": "code",
   "execution_count": 53,
   "metadata": {},
   "outputs": [
    {
     "data": {
      "text/plain": [
       "0.04057558471734664"
      ]
     },
     "execution_count": 53,
     "metadata": {},
     "output_type": "execute_result"
    }
   ],
   "source": [
    "proporcao_incompletos = len(incomplete_dataset.index)/len(dataset.index)\n",
    "proporcao_incompletos"
   ]
  },
  {
   "cell_type": "code",
   "execution_count": 54,
   "metadata": {},
   "outputs": [
    {
     "data": {
      "text/plain": [
       "0.004200663704000809"
      ]
     },
     "execution_count": 54,
     "metadata": {},
     "output_type": "execute_result"
    }
   ],
   "source": [
    "proporcao_inconsistentes = len(inconsistent_dataset.index)/len(dataset.index)\n",
    "proporcao_inconsistentes"
   ]
  },
  {
   "cell_type": "code",
   "execution_count": 55,
   "metadata": {},
   "outputs": [
    {
     "data": {
      "image/png": "[encoded data removed]",
      "text/plain": [
       "<Figure size 3600x3000 with 1 Axes>"
      ]
     },
     "metadata": {},
     "output_type": "display_data"
    }
   ],
   "source": [
    "plotar_grafico_setores_registros(proporcao_completos, proporcao_incompletos, proporcao_inconsistentes)"
   ]
  },
  {
   "cell_type": "code",
   "execution_count": 56,
   "metadata": {},
   "outputs": [],
   "source": [
    "#Grafico de setores outliers_temperature x outliers_humidity x outliers_light x outliers_voltage"
   ]
  },
  {
   "cell_type": "code",
   "execution_count": 57,
   "metadata": {},
   "outputs": [
    {
     "data": {
      "text/html": [
       "<div>\n",
       "<style scoped>\n",
       "    .dataframe tbody tr th:only-of-type {\n",
       "        vertical-align: middle;\n",
       "    }\n",
       "\n",
       "    .dataframe tbody tr th {\n",
       "        vertical-align: top;\n",
       "    }\n",
       "\n",
       "    .dataframe thead th {\n",
       "        text-align: right;\n",
       "    }\n",
       "</style>\n",
       "<table border=\"1\" class=\"dataframe\">\n",
       "  <thead>\n",
       "    <tr style=\"text-align: right;\">\n",
       "      <th></th>\n",
       "      <th>temperature</th>\n",
       "      <th>humidity</th>\n",
       "      <th>light</th>\n",
       "      <th>voltage</th>\n",
       "    </tr>\n",
       "  </thead>\n",
       "  <tbody>\n",
       "    <tr>\n",
       "      <th>0</th>\n",
       "      <td>122.1530</td>\n",
       "      <td>-3.91901</td>\n",
       "      <td>11.04</td>\n",
       "      <td>2.03397</td>\n",
       "    </tr>\n",
       "    <tr>\n",
       "      <th>1</th>\n",
       "      <td>19.9884</td>\n",
       "      <td>37.09330</td>\n",
       "      <td>45.08</td>\n",
       "      <td>2.69964</td>\n",
       "    </tr>\n",
       "    <tr>\n",
       "      <th>2</th>\n",
       "      <td>19.3024</td>\n",
       "      <td>38.46290</td>\n",
       "      <td>45.08</td>\n",
       "      <td>2.68742</td>\n",
       "    </tr>\n",
       "    <tr>\n",
       "      <th>3</th>\n",
       "      <td>19.1652</td>\n",
       "      <td>38.80390</td>\n",
       "      <td>45.08</td>\n",
       "      <td>2.68742</td>\n",
       "    </tr>\n",
       "    <tr>\n",
       "      <th>4</th>\n",
       "      <td>19.1750</td>\n",
       "      <td>38.83790</td>\n",
       "      <td>45.08</td>\n",
       "      <td>2.69964</td>\n",
       "    </tr>\n",
       "    <tr>\n",
       "      <th>...</th>\n",
       "      <td>...</td>\n",
       "      <td>...</td>\n",
       "      <td>...</td>\n",
       "      <td>...</td>\n",
       "    </tr>\n",
       "    <tr>\n",
       "      <th>2210079</th>\n",
       "      <td>21.4780</td>\n",
       "      <td>47.63610</td>\n",
       "      <td>0.46</td>\n",
       "      <td>2.35683</td>\n",
       "    </tr>\n",
       "    <tr>\n",
       "      <th>2210080</th>\n",
       "      <td>21.4780</td>\n",
       "      <td>47.63610</td>\n",
       "      <td>0.46</td>\n",
       "      <td>2.34751</td>\n",
       "    </tr>\n",
       "    <tr>\n",
       "      <th>2210081</th>\n",
       "      <td>21.4192</td>\n",
       "      <td>47.66870</td>\n",
       "      <td>0.46</td>\n",
       "      <td>2.34751</td>\n",
       "    </tr>\n",
       "    <tr>\n",
       "      <th>2210082</th>\n",
       "      <td>21.3996</td>\n",
       "      <td>47.70130</td>\n",
       "      <td>0.46</td>\n",
       "      <td>2.34751</td>\n",
       "    </tr>\n",
       "    <tr>\n",
       "      <th>2210083</th>\n",
       "      <td>21.3604</td>\n",
       "      <td>47.83150</td>\n",
       "      <td>0.46</td>\n",
       "      <td>2.34751</td>\n",
       "    </tr>\n",
       "  </tbody>\n",
       "</table>\n",
       "<p>2210084 rows × 4 columns</p>\n",
       "</div>"
      ],
      "text/plain": [
       "         temperature  humidity  light  voltage\n",
       "0           122.1530  -3.91901  11.04  2.03397\n",
       "1            19.9884  37.09330  45.08  2.69964\n",
       "2            19.3024  38.46290  45.08  2.68742\n",
       "3            19.1652  38.80390  45.08  2.68742\n",
       "4            19.1750  38.83790  45.08  2.69964\n",
       "...              ...       ...    ...      ...\n",
       "2210079      21.4780  47.63610   0.46  2.35683\n",
       "2210080      21.4780  47.63610   0.46  2.34751\n",
       "2210081      21.4192  47.66870   0.46  2.34751\n",
       "2210082      21.3996  47.70130   0.46  2.34751\n",
       "2210083      21.3604  47.83150   0.46  2.34751\n",
       "\n",
       "[2210084 rows x 4 columns]"
      ]
     },
     "execution_count": 57,
     "metadata": {},
     "output_type": "execute_result"
    }
   ],
   "source": [
    "physical_variables_right_dataset = right_dataset.drop(columns=['date','time','epoch','moteid'])\n",
    "physical_variables_right_dataset"
   ]
  },
  {
   "cell_type": "code",
   "execution_count": 58,
   "metadata": {},
   "outputs": [],
   "source": [
    "Q1 = physical_variables_right_dataset.quantile(0.25)\n",
    "Q3 = physical_variables_right_dataset.quantile(0.75)\n",
    "IQR = Q3 - Q1"
   ]
  },
  {
   "cell_type": "code",
   "execution_count": 59,
   "metadata": {},
   "outputs": [
    {
     "data": {
      "text/plain": [
       "temperature    412200\n",
       "humidity       302902\n",
       "light          226887\n",
       "voltage          5983\n",
       "dtype: int64"
      ]
     },
     "execution_count": 59,
     "metadata": {},
     "output_type": "execute_result"
    }
   ],
   "source": [
    "((physical_variables_right_dataset < (Q1 - 1.5*IQR)) | (physical_variables_right_dataset > (Q3 + 1.5*IQR))).sum()"
   ]
  },
  {
   "cell_type": "code",
   "execution_count": 60,
   "metadata": {},
   "outputs": [],
   "source": [
    "qtd_outliers_temperature = ((physical_variables_right_dataset < (Q1 - 1.5*IQR)) | (physical_variables_right_dataset > (Q3 + 1.5*IQR))).temperature.sum()"
   ]
  },
  {
   "cell_type": "code",
   "execution_count": 61,
   "metadata": {},
   "outputs": [],
   "source": [
    "qtd_outliers_humidity = ((physical_variables_right_dataset < (Q1 - 1.5*IQR)) | (physical_variables_right_dataset > (Q3 + 1.5*IQR))).humidity.sum()"
   ]
  },
  {
   "cell_type": "code",
   "execution_count": 62,
   "metadata": {},
   "outputs": [],
   "source": [
    "qtd_outliers_light = ((physical_variables_right_dataset < (Q1 - 1.5*IQR)) | (physical_variables_right_dataset > (Q3 + 1.5*IQR))).light.sum()"
   ]
  },
  {
   "cell_type": "code",
   "execution_count": 63,
   "metadata": {},
   "outputs": [],
   "source": [
    "qtd_outliers_voltage = ((physical_variables_right_dataset < (Q1 - 1.5*IQR)) | (physical_variables_right_dataset > (Q3 + 1.5*IQR))).voltage.sum()"
   ]
  },
  {
   "cell_type": "code",
   "execution_count": 64,
   "metadata": {},
   "outputs": [],
   "source": [
    "qtd_registros = len(right_dataset.index)"
   ]
  },
  {
   "cell_type": "code",
   "execution_count": 65,
   "metadata": {},
   "outputs": [
    {
     "data": {
      "text/plain": [
       "0.18650874808378323"
      ]
     },
     "execution_count": 65,
     "metadata": {},
     "output_type": "execute_result"
    }
   ],
   "source": [
    "proporcao_outliers_temperature = qtd_outliers_temperature/qtd_registros\n",
    "proporcao_outliers_temperature"
   ]
  },
  {
   "cell_type": "code",
   "execution_count": 66,
   "metadata": {},
   "outputs": [
    {
     "data": {
      "text/plain": [
       "0.13705451919474554"
      ]
     },
     "execution_count": 66,
     "metadata": {},
     "output_type": "execute_result"
    }
   ],
   "source": [
    "proporcao_outliers_humidity = qtd_outliers_humidity/qtd_registros\n",
    "proporcao_outliers_humidity"
   ]
  },
  {
   "cell_type": "code",
   "execution_count": 67,
   "metadata": {},
   "outputs": [
    {
     "data": {
      "text/plain": [
       "0.10265989889977033"
      ]
     },
     "execution_count": 67,
     "metadata": {},
     "output_type": "execute_result"
    }
   ],
   "source": [
    "proporcao_outliers_light = qtd_outliers_light/qtd_registros\n",
    "proporcao_outliers_light"
   ]
  },
  {
   "cell_type": "code",
   "execution_count": 68,
   "metadata": {},
   "outputs": [
    {
     "data": {
      "text/plain": [
       "0.002707136923302463"
      ]
     },
     "execution_count": 68,
     "metadata": {},
     "output_type": "execute_result"
    }
   ],
   "source": [
    "proporcao_outliers_voltage = qtd_outliers_voltage/qtd_registros\n",
    "proporcao_outliers_voltage"
   ]
  },
  {
   "cell_type": "code",
   "execution_count": 69,
   "metadata": {},
   "outputs": [
    {
     "data": {
      "image/png": "[encoded data removed]",
      "text/plain": [
       "<Figure size 3600x3000 with 1 Axes>"
      ]
     },
     "metadata": {},
     "output_type": "display_data"
    }
   ],
   "source": [
    "plotar_grafico_setores_outliers(proporcao_outliers_temperature, proporcao_outliers_humidity, proporcao_outliers_light, proporcao_outliers_voltage)"
   ]
  }
 ],
 "metadata": {
  "kernelspec": {
   "display_name": "myenv",
   "language": "python",
   "name": "python3"
  },
  "language_info": {
   "codemirror_mode": {
    "name": "ipython",
    "version": 3
   },
   "file_extension": ".py",
   "mimetype": "text/x-python",
   "name": "python",
   "nbconvert_exporter": "python",
   "pygments_lexer": "ipython3",
   "version": "3.11.7"
  }
 },
 "nbformat": 4,
 "nbformat_minor": 2
}
