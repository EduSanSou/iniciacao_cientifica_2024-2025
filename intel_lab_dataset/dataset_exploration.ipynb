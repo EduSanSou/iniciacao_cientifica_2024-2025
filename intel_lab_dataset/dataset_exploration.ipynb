{
 "cells": [
  {
   "cell_type": "code",
   "execution_count": 159,
   "metadata": {},
   "outputs": [],
   "source": [
    "#Bibliotecas"
   ]
  },
  {
   "cell_type": "code",
   "execution_count": 160,
   "metadata": {},
   "outputs": [],
   "source": [
    "import pandas as pd\n",
    "import matplotlib.pyplot as plt\n",
    "import seaborn as sns\n",
    "from scipy.stats import skew\n",
    "from scipy.stats import kurtosis"
   ]
  },
  {
   "cell_type": "code",
   "execution_count": 161,
   "metadata": {},
   "outputs": [],
   "source": [
    "#Funcoes"
   ]
  },
  {
   "cell_type": "code",
   "execution_count": 162,
   "metadata": {},
   "outputs": [],
   "source": [
    "def plotar_histograma(dados):\n",
    "    plt.figure(figsize=(8, 10))\n",
    "    plt.subplot(2, 1, 1)\n",
    "    plt.title(f'Histograma({dados.name})')\n",
    "    sns.histplot(data = dados, kde = True , bins=10)"
   ]
  },
  {
   "cell_type": "code",
   "execution_count": 163,
   "metadata": {},
   "outputs": [],
   "source": [
    "def plotar_boxplot(dados):\n",
    "    plt.figure(figsize=(8, 10))\n",
    "    plt.subplot(2, 1, 2)\n",
    "    sns.boxplot(data = dados , orient=\"v\")\n",
    "    plt.title(f'Boxplot({dados.name})')\n",
    "    plt.tight_layout(pad=3.0)"
   ]
  },
  {
   "cell_type": "code",
   "execution_count": 164,
   "metadata": {},
   "outputs": [],
   "source": [
    "def plotar_grafico_setores_registros(proporcao_completos, proporcao_incompletos, proporcao_inconsistentes):\n",
    "    plt.figure(figsize=(36, 30))\n",
    "    plt.subplot(4, 1, 2)\n",
    "    labels = ['Completos', 'Incompletos', 'Inconsistentes']\n",
    "    sizes = [proporcao_completos, proporcao_incompletos, proporcao_inconsistentes]\n",
    "    plt.pie(sizes, labels=labels, autopct='%1.1f%%', startangle=140)\n",
    "    plt.title('Gráfico de Setores: Registros')"
   ]
  },
  {
   "cell_type": "code",
   "execution_count": 165,
   "metadata": {},
   "outputs": [],
   "source": [
    "def plotar_grafico_setores_outliers(proporcao_outliers_temperature, proporcao_outliers_humidity, proporcao_outliers_light, proporcao_outliers_voltage):\n",
    "    plt.figure(figsize=(36, 30))\n",
    "    plt.subplot(4, 1, 2)\n",
    "    labels = ['temperature','humidity','light','voltage']\n",
    "    sizes = [proporcao_outliers_temperature, proporcao_outliers_humidity, proporcao_outliers_light, proporcao_outliers_voltage]\n",
    "    plt.pie(sizes, labels=labels, autopct='%1.1f%%', startangle=140)\n",
    "    plt.title('Gráfico de Setores: Outliers')"
   ]
  },
  {
   "cell_type": "code",
   "execution_count": 166,
   "metadata": {},
   "outputs": [],
   "source": [
    "#Dataset completo (todos os registros)"
   ]
  },
  {
   "cell_type": "code",
   "execution_count": 167,
   "metadata": {},
   "outputs": [
    {
     "data": {
      "text/html": [
       "<div>\n",
       "<style scoped>\n",
       "    .dataframe tbody tr th:only-of-type {\n",
       "        vertical-align: middle;\n",
       "    }\n",
       "\n",
       "    .dataframe tbody tr th {\n",
       "        vertical-align: top;\n",
       "    }\n",
       "\n",
       "    .dataframe thead th {\n",
       "        text-align: right;\n",
       "    }\n",
       "</style>\n",
       "<table border=\"1\" class=\"dataframe\">\n",
       "  <thead>\n",
       "    <tr style=\"text-align: right;\">\n",
       "      <th></th>\n",
       "      <th>date</th>\n",
       "      <th>time</th>\n",
       "      <th>epoch</th>\n",
       "      <th>moteid</th>\n",
       "      <th>temperature</th>\n",
       "      <th>humidity</th>\n",
       "      <th>light</th>\n",
       "      <th>voltage</th>\n",
       "    </tr>\n",
       "  </thead>\n",
       "  <tbody>\n",
       "    <tr>\n",
       "      <th>0</th>\n",
       "      <td>2004-03-31</td>\n",
       "      <td>03:38:15.757551</td>\n",
       "      <td>2</td>\n",
       "      <td>1.0</td>\n",
       "      <td>122.1530</td>\n",
       "      <td>-3.91901</td>\n",
       "      <td>11.04</td>\n",
       "      <td>2.03397</td>\n",
       "    </tr>\n",
       "    <tr>\n",
       "      <th>1</th>\n",
       "      <td>2004-02-28</td>\n",
       "      <td>00:59:16.02785</td>\n",
       "      <td>3</td>\n",
       "      <td>1.0</td>\n",
       "      <td>19.9884</td>\n",
       "      <td>37.09330</td>\n",
       "      <td>45.08</td>\n",
       "      <td>2.69964</td>\n",
       "    </tr>\n",
       "    <tr>\n",
       "      <th>2</th>\n",
       "      <td>2004-02-28</td>\n",
       "      <td>01:03:16.33393</td>\n",
       "      <td>11</td>\n",
       "      <td>1.0</td>\n",
       "      <td>19.3024</td>\n",
       "      <td>38.46290</td>\n",
       "      <td>45.08</td>\n",
       "      <td>2.68742</td>\n",
       "    </tr>\n",
       "    <tr>\n",
       "      <th>3</th>\n",
       "      <td>2004-02-28</td>\n",
       "      <td>01:06:16.013453</td>\n",
       "      <td>17</td>\n",
       "      <td>1.0</td>\n",
       "      <td>19.1652</td>\n",
       "      <td>38.80390</td>\n",
       "      <td>45.08</td>\n",
       "      <td>2.68742</td>\n",
       "    </tr>\n",
       "    <tr>\n",
       "      <th>4</th>\n",
       "      <td>2004-02-28</td>\n",
       "      <td>01:06:46.778088</td>\n",
       "      <td>18</td>\n",
       "      <td>1.0</td>\n",
       "      <td>19.1750</td>\n",
       "      <td>38.83790</td>\n",
       "      <td>45.08</td>\n",
       "      <td>2.69964</td>\n",
       "    </tr>\n",
       "    <tr>\n",
       "      <th>...</th>\n",
       "      <td>...</td>\n",
       "      <td>...</td>\n",
       "      <td>...</td>\n",
       "      <td>...</td>\n",
       "      <td>...</td>\n",
       "      <td>...</td>\n",
       "      <td>...</td>\n",
       "      <td>...</td>\n",
       "    </tr>\n",
       "    <tr>\n",
       "      <th>2313677</th>\n",
       "      <td>2004-04-02</td>\n",
       "      <td>01:14:54.164318</td>\n",
       "      <td>61274</td>\n",
       "      <td>NaN</td>\n",
       "      <td>NaN</td>\n",
       "      <td>NaN</td>\n",
       "      <td>NaN</td>\n",
       "      <td>NaN</td>\n",
       "    </tr>\n",
       "    <tr>\n",
       "      <th>2313678</th>\n",
       "      <td>2004-04-02</td>\n",
       "      <td>01:17:53.670524</td>\n",
       "      <td>61275</td>\n",
       "      <td>NaN</td>\n",
       "      <td>NaN</td>\n",
       "      <td>NaN</td>\n",
       "      <td>NaN</td>\n",
       "      <td>NaN</td>\n",
       "    </tr>\n",
       "    <tr>\n",
       "      <th>2313679</th>\n",
       "      <td>2004-04-02</td>\n",
       "      <td>01:20:52.807972</td>\n",
       "      <td>61276</td>\n",
       "      <td>NaN</td>\n",
       "      <td>NaN</td>\n",
       "      <td>NaN</td>\n",
       "      <td>NaN</td>\n",
       "      <td>NaN</td>\n",
       "    </tr>\n",
       "    <tr>\n",
       "      <th>2313680</th>\n",
       "      <td>2004-04-02</td>\n",
       "      <td>01:26:53.950342</td>\n",
       "      <td>61278</td>\n",
       "      <td>NaN</td>\n",
       "      <td>NaN</td>\n",
       "      <td>NaN</td>\n",
       "      <td>NaN</td>\n",
       "      <td>NaN</td>\n",
       "    </tr>\n",
       "    <tr>\n",
       "      <th>2313681</th>\n",
       "      <td>2004-04-02</td>\n",
       "      <td>01:35:53.897412</td>\n",
       "      <td>61280</td>\n",
       "      <td>NaN</td>\n",
       "      <td>NaN</td>\n",
       "      <td>NaN</td>\n",
       "      <td>NaN</td>\n",
       "      <td>NaN</td>\n",
       "    </tr>\n",
       "  </tbody>\n",
       "</table>\n",
       "<p>2313682 rows × 8 columns</p>\n",
       "</div>"
      ],
      "text/plain": [
       "               date             time  epoch  moteid  temperature  humidity  \\\n",
       "0        2004-03-31  03:38:15.757551      2     1.0     122.1530  -3.91901   \n",
       "1        2004-02-28   00:59:16.02785      3     1.0      19.9884  37.09330   \n",
       "2        2004-02-28   01:03:16.33393     11     1.0      19.3024  38.46290   \n",
       "3        2004-02-28  01:06:16.013453     17     1.0      19.1652  38.80390   \n",
       "4        2004-02-28  01:06:46.778088     18     1.0      19.1750  38.83790   \n",
       "...             ...              ...    ...     ...          ...       ...   \n",
       "2313677  2004-04-02  01:14:54.164318  61274     NaN          NaN       NaN   \n",
       "2313678  2004-04-02  01:17:53.670524  61275     NaN          NaN       NaN   \n",
       "2313679  2004-04-02  01:20:52.807972  61276     NaN          NaN       NaN   \n",
       "2313680  2004-04-02  01:26:53.950342  61278     NaN          NaN       NaN   \n",
       "2313681  2004-04-02  01:35:53.897412  61280     NaN          NaN       NaN   \n",
       "\n",
       "         light  voltage  \n",
       "0        11.04  2.03397  \n",
       "1        45.08  2.69964  \n",
       "2        45.08  2.68742  \n",
       "3        45.08  2.68742  \n",
       "4        45.08  2.69964  \n",
       "...        ...      ...  \n",
       "2313677    NaN      NaN  \n",
       "2313678    NaN      NaN  \n",
       "2313679    NaN      NaN  \n",
       "2313680    NaN      NaN  \n",
       "2313681    NaN      NaN  \n",
       "\n",
       "[2313682 rows x 8 columns]"
      ]
     },
     "execution_count": 167,
     "metadata": {},
     "output_type": "execute_result"
    }
   ],
   "source": [
    "dataset = pd.read_csv(r'C:\\Users\\Eduardo\\Documents\\UFBA\\PIBIC\\Projeto\\Datasets\\intel_lab_dataset\\data_with_labels.txt', sep=' ')\n",
    "dataset"
   ]
  },
  {
   "cell_type": "code",
   "execution_count": 168,
   "metadata": {},
   "outputs": [
    {
     "data": {
      "text/plain": [
       "0"
      ]
     },
     "execution_count": 168,
     "metadata": {},
     "output_type": "execute_result"
    }
   ],
   "source": [
    "qtd_registros_duplicados = dataset.duplicated().sum()\n",
    "qtd_registros_duplicados"
   ]
  },
  {
   "cell_type": "code",
   "execution_count": 169,
   "metadata": {},
   "outputs": [],
   "source": [
    "#Dataset correto (apenas registros contendo valores para as oito variaveis e com moteid menor ou igual a 54)"
   ]
  },
  {
   "cell_type": "code",
   "execution_count": 170,
   "metadata": {},
   "outputs": [
    {
     "data": {
      "text/html": [
       "<div>\n",
       "<style scoped>\n",
       "    .dataframe tbody tr th:only-of-type {\n",
       "        vertical-align: middle;\n",
       "    }\n",
       "\n",
       "    .dataframe tbody tr th {\n",
       "        vertical-align: top;\n",
       "    }\n",
       "\n",
       "    .dataframe thead th {\n",
       "        text-align: right;\n",
       "    }\n",
       "</style>\n",
       "<table border=\"1\" class=\"dataframe\">\n",
       "  <thead>\n",
       "    <tr style=\"text-align: right;\">\n",
       "      <th></th>\n",
       "      <th>date</th>\n",
       "      <th>time</th>\n",
       "      <th>epoch</th>\n",
       "      <th>moteid</th>\n",
       "      <th>temperature</th>\n",
       "      <th>humidity</th>\n",
       "      <th>light</th>\n",
       "      <th>voltage</th>\n",
       "    </tr>\n",
       "  </thead>\n",
       "  <tbody>\n",
       "    <tr>\n",
       "      <th>0</th>\n",
       "      <td>2004-03-31</td>\n",
       "      <td>03:38:15.757551</td>\n",
       "      <td>2</td>\n",
       "      <td>1</td>\n",
       "      <td>122.1530</td>\n",
       "      <td>-3.91901</td>\n",
       "      <td>11.04</td>\n",
       "      <td>2.03397</td>\n",
       "    </tr>\n",
       "    <tr>\n",
       "      <th>1</th>\n",
       "      <td>2004-02-28</td>\n",
       "      <td>00:59:16.02785</td>\n",
       "      <td>3</td>\n",
       "      <td>1</td>\n",
       "      <td>19.9884</td>\n",
       "      <td>37.09330</td>\n",
       "      <td>45.08</td>\n",
       "      <td>2.69964</td>\n",
       "    </tr>\n",
       "    <tr>\n",
       "      <th>2</th>\n",
       "      <td>2004-02-28</td>\n",
       "      <td>01:03:16.33393</td>\n",
       "      <td>11</td>\n",
       "      <td>1</td>\n",
       "      <td>19.3024</td>\n",
       "      <td>38.46290</td>\n",
       "      <td>45.08</td>\n",
       "      <td>2.68742</td>\n",
       "    </tr>\n",
       "    <tr>\n",
       "      <th>3</th>\n",
       "      <td>2004-02-28</td>\n",
       "      <td>01:06:16.013453</td>\n",
       "      <td>17</td>\n",
       "      <td>1</td>\n",
       "      <td>19.1652</td>\n",
       "      <td>38.80390</td>\n",
       "      <td>45.08</td>\n",
       "      <td>2.68742</td>\n",
       "    </tr>\n",
       "    <tr>\n",
       "      <th>4</th>\n",
       "      <td>2004-02-28</td>\n",
       "      <td>01:06:46.778088</td>\n",
       "      <td>18</td>\n",
       "      <td>1</td>\n",
       "      <td>19.1750</td>\n",
       "      <td>38.83790</td>\n",
       "      <td>45.08</td>\n",
       "      <td>2.69964</td>\n",
       "    </tr>\n",
       "    <tr>\n",
       "      <th>...</th>\n",
       "      <td>...</td>\n",
       "      <td>...</td>\n",
       "      <td>...</td>\n",
       "      <td>...</td>\n",
       "      <td>...</td>\n",
       "      <td>...</td>\n",
       "      <td>...</td>\n",
       "      <td>...</td>\n",
       "    </tr>\n",
       "    <tr>\n",
       "      <th>2210079</th>\n",
       "      <td>2004-03-21</td>\n",
       "      <td>18:53:27.558979</td>\n",
       "      <td>65510</td>\n",
       "      <td>54</td>\n",
       "      <td>21.4780</td>\n",
       "      <td>47.63610</td>\n",
       "      <td>0.46</td>\n",
       "      <td>2.35683</td>\n",
       "    </tr>\n",
       "    <tr>\n",
       "      <th>2210080</th>\n",
       "      <td>2004-03-21</td>\n",
       "      <td>18:54:43.117051</td>\n",
       "      <td>65512</td>\n",
       "      <td>54</td>\n",
       "      <td>21.4780</td>\n",
       "      <td>47.63610</td>\n",
       "      <td>0.46</td>\n",
       "      <td>2.34751</td>\n",
       "    </tr>\n",
       "    <tr>\n",
       "      <th>2210081</th>\n",
       "      <td>2004-03-21</td>\n",
       "      <td>18:57:30.336879</td>\n",
       "      <td>65518</td>\n",
       "      <td>54</td>\n",
       "      <td>21.4192</td>\n",
       "      <td>47.66870</td>\n",
       "      <td>0.46</td>\n",
       "      <td>2.34751</td>\n",
       "    </tr>\n",
       "    <tr>\n",
       "      <th>2210082</th>\n",
       "      <td>2004-03-21</td>\n",
       "      <td>18:59:36.673512</td>\n",
       "      <td>65522</td>\n",
       "      <td>54</td>\n",
       "      <td>21.3996</td>\n",
       "      <td>47.70130</td>\n",
       "      <td>0.46</td>\n",
       "      <td>2.34751</td>\n",
       "    </tr>\n",
       "    <tr>\n",
       "      <th>2210083</th>\n",
       "      <td>2004-03-21</td>\n",
       "      <td>19:02:56.249587</td>\n",
       "      <td>65529</td>\n",
       "      <td>54</td>\n",
       "      <td>21.3604</td>\n",
       "      <td>47.83150</td>\n",
       "      <td>0.46</td>\n",
       "      <td>2.34751</td>\n",
       "    </tr>\n",
       "  </tbody>\n",
       "</table>\n",
       "<p>2210084 rows × 8 columns</p>\n",
       "</div>"
      ],
      "text/plain": [
       "               date             time  epoch  moteid  temperature  humidity  \\\n",
       "0        2004-03-31  03:38:15.757551      2       1     122.1530  -3.91901   \n",
       "1        2004-02-28   00:59:16.02785      3       1      19.9884  37.09330   \n",
       "2        2004-02-28   01:03:16.33393     11       1      19.3024  38.46290   \n",
       "3        2004-02-28  01:06:16.013453     17       1      19.1652  38.80390   \n",
       "4        2004-02-28  01:06:46.778088     18       1      19.1750  38.83790   \n",
       "...             ...              ...    ...     ...          ...       ...   \n",
       "2210079  2004-03-21  18:53:27.558979  65510      54      21.4780  47.63610   \n",
       "2210080  2004-03-21  18:54:43.117051  65512      54      21.4780  47.63610   \n",
       "2210081  2004-03-21  18:57:30.336879  65518      54      21.4192  47.66870   \n",
       "2210082  2004-03-21  18:59:36.673512  65522      54      21.3996  47.70130   \n",
       "2210083  2004-03-21  19:02:56.249587  65529      54      21.3604  47.83150   \n",
       "\n",
       "         light  voltage  \n",
       "0        11.04  2.03397  \n",
       "1        45.08  2.69964  \n",
       "2        45.08  2.68742  \n",
       "3        45.08  2.68742  \n",
       "4        45.08  2.69964  \n",
       "...        ...      ...  \n",
       "2210079   0.46  2.35683  \n",
       "2210080   0.46  2.34751  \n",
       "2210081   0.46  2.34751  \n",
       "2210082   0.46  2.34751  \n",
       "2210083   0.46  2.34751  \n",
       "\n",
       "[2210084 rows x 8 columns]"
      ]
     },
     "execution_count": 170,
     "metadata": {},
     "output_type": "execute_result"
    }
   ],
   "source": [
    "right_dataset = pd.read_csv(r'C:\\Users\\Eduardo\\Documents\\UFBA\\PIBIC\\Projeto\\Datasets\\intel_lab_dataset\\right_data_with_labels.txt', sep=' ')\n",
    "right_dataset"
   ]
  },
  {
   "cell_type": "code",
   "execution_count": 171,
   "metadata": {},
   "outputs": [],
   "source": [
    "#Dataset incompleto (apenas registros que nao contem valores para todas as oito variaveis)"
   ]
  },
  {
   "cell_type": "code",
   "execution_count": 172,
   "metadata": {},
   "outputs": [
    {
     "data": {
      "text/html": [
       "<div>\n",
       "<style scoped>\n",
       "    .dataframe tbody tr th:only-of-type {\n",
       "        vertical-align: middle;\n",
       "    }\n",
       "\n",
       "    .dataframe tbody tr th {\n",
       "        vertical-align: top;\n",
       "    }\n",
       "\n",
       "    .dataframe thead th {\n",
       "        text-align: right;\n",
       "    }\n",
       "</style>\n",
       "<table border=\"1\" class=\"dataframe\">\n",
       "  <thead>\n",
       "    <tr style=\"text-align: right;\">\n",
       "      <th></th>\n",
       "      <th>date</th>\n",
       "      <th>time</th>\n",
       "      <th>epoch</th>\n",
       "      <th>moteid</th>\n",
       "      <th>temperature</th>\n",
       "      <th>humidity</th>\n",
       "      <th>light</th>\n",
       "      <th>voltage</th>\n",
       "    </tr>\n",
       "  </thead>\n",
       "  <tbody>\n",
       "    <tr>\n",
       "      <th>0</th>\n",
       "      <td>2004-03-30</td>\n",
       "      <td>08:11:56.681052</td>\n",
       "      <td>53671</td>\n",
       "      <td>3.0</td>\n",
       "      <td>NaN</td>\n",
       "      <td>NaN</td>\n",
       "      <td>NaN</td>\n",
       "      <td>2.19970</td>\n",
       "    </tr>\n",
       "    <tr>\n",
       "      <th>1</th>\n",
       "      <td>2004-02-28</td>\n",
       "      <td>02:21:16.59372</td>\n",
       "      <td>167</td>\n",
       "      <td>5.0</td>\n",
       "      <td>NaN</td>\n",
       "      <td>NaN</td>\n",
       "      <td>NaN</td>\n",
       "      <td>2.69964</td>\n",
       "    </tr>\n",
       "    <tr>\n",
       "      <th>2</th>\n",
       "      <td>2004-02-28</td>\n",
       "      <td>03:42:46.678899</td>\n",
       "      <td>330</td>\n",
       "      <td>5.0</td>\n",
       "      <td>NaN</td>\n",
       "      <td>NaN</td>\n",
       "      <td>NaN</td>\n",
       "      <td>2.67532</td>\n",
       "    </tr>\n",
       "    <tr>\n",
       "      <th>3</th>\n",
       "      <td>2004-02-28</td>\n",
       "      <td>05:20:16.549645</td>\n",
       "      <td>525</td>\n",
       "      <td>5.0</td>\n",
       "      <td>NaN</td>\n",
       "      <td>NaN</td>\n",
       "      <td>NaN</td>\n",
       "      <td>2.65143</td>\n",
       "    </tr>\n",
       "    <tr>\n",
       "      <th>4</th>\n",
       "      <td>2004-02-28</td>\n",
       "      <td>09:32:47.471012</td>\n",
       "      <td>1030</td>\n",
       "      <td>5.0</td>\n",
       "      <td>NaN</td>\n",
       "      <td>NaN</td>\n",
       "      <td>NaN</td>\n",
       "      <td>2.65143</td>\n",
       "    </tr>\n",
       "    <tr>\n",
       "      <th>...</th>\n",
       "      <td>...</td>\n",
       "      <td>...</td>\n",
       "      <td>...</td>\n",
       "      <td>...</td>\n",
       "      <td>...</td>\n",
       "      <td>...</td>\n",
       "      <td>...</td>\n",
       "      <td>...</td>\n",
       "    </tr>\n",
       "    <tr>\n",
       "      <th>93874</th>\n",
       "      <td>2004-04-02</td>\n",
       "      <td>01:14:54.164318</td>\n",
       "      <td>61274</td>\n",
       "      <td>NaN</td>\n",
       "      <td>NaN</td>\n",
       "      <td>NaN</td>\n",
       "      <td>NaN</td>\n",
       "      <td>NaN</td>\n",
       "    </tr>\n",
       "    <tr>\n",
       "      <th>93875</th>\n",
       "      <td>2004-04-02</td>\n",
       "      <td>01:17:53.670524</td>\n",
       "      <td>61275</td>\n",
       "      <td>NaN</td>\n",
       "      <td>NaN</td>\n",
       "      <td>NaN</td>\n",
       "      <td>NaN</td>\n",
       "      <td>NaN</td>\n",
       "    </tr>\n",
       "    <tr>\n",
       "      <th>93876</th>\n",
       "      <td>2004-04-02</td>\n",
       "      <td>01:20:52.807972</td>\n",
       "      <td>61276</td>\n",
       "      <td>NaN</td>\n",
       "      <td>NaN</td>\n",
       "      <td>NaN</td>\n",
       "      <td>NaN</td>\n",
       "      <td>NaN</td>\n",
       "    </tr>\n",
       "    <tr>\n",
       "      <th>93877</th>\n",
       "      <td>2004-04-02</td>\n",
       "      <td>01:26:53.950342</td>\n",
       "      <td>61278</td>\n",
       "      <td>NaN</td>\n",
       "      <td>NaN</td>\n",
       "      <td>NaN</td>\n",
       "      <td>NaN</td>\n",
       "      <td>NaN</td>\n",
       "    </tr>\n",
       "    <tr>\n",
       "      <th>93878</th>\n",
       "      <td>2004-04-02</td>\n",
       "      <td>01:35:53.897412</td>\n",
       "      <td>61280</td>\n",
       "      <td>NaN</td>\n",
       "      <td>NaN</td>\n",
       "      <td>NaN</td>\n",
       "      <td>NaN</td>\n",
       "      <td>NaN</td>\n",
       "    </tr>\n",
       "  </tbody>\n",
       "</table>\n",
       "<p>93879 rows × 8 columns</p>\n",
       "</div>"
      ],
      "text/plain": [
       "             date             time  epoch  moteid  temperature  humidity  \\\n",
       "0      2004-03-30  08:11:56.681052  53671     3.0          NaN       NaN   \n",
       "1      2004-02-28   02:21:16.59372    167     5.0          NaN       NaN   \n",
       "2      2004-02-28  03:42:46.678899    330     5.0          NaN       NaN   \n",
       "3      2004-02-28  05:20:16.549645    525     5.0          NaN       NaN   \n",
       "4      2004-02-28  09:32:47.471012   1030     5.0          NaN       NaN   \n",
       "...           ...              ...    ...     ...          ...       ...   \n",
       "93874  2004-04-02  01:14:54.164318  61274     NaN          NaN       NaN   \n",
       "93875  2004-04-02  01:17:53.670524  61275     NaN          NaN       NaN   \n",
       "93876  2004-04-02  01:20:52.807972  61276     NaN          NaN       NaN   \n",
       "93877  2004-04-02  01:26:53.950342  61278     NaN          NaN       NaN   \n",
       "93878  2004-04-02  01:35:53.897412  61280     NaN          NaN       NaN   \n",
       "\n",
       "       light  voltage  \n",
       "0        NaN  2.19970  \n",
       "1        NaN  2.69964  \n",
       "2        NaN  2.67532  \n",
       "3        NaN  2.65143  \n",
       "4        NaN  2.65143  \n",
       "...      ...      ...  \n",
       "93874    NaN      NaN  \n",
       "93875    NaN      NaN  \n",
       "93876    NaN      NaN  \n",
       "93877    NaN      NaN  \n",
       "93878    NaN      NaN  \n",
       "\n",
       "[93879 rows x 8 columns]"
      ]
     },
     "execution_count": 172,
     "metadata": {},
     "output_type": "execute_result"
    }
   ],
   "source": [
    "incomplete_dataset = pd.read_csv(r'C:\\Users\\Eduardo\\Documents\\UFBA\\PIBIC\\Projeto\\Datasets\\intel_lab_dataset\\incomplete_data_with_labels.txt', sep=' ')\n",
    "incomplete_dataset"
   ]
  },
  {
   "cell_type": "code",
   "execution_count": 173,
   "metadata": {},
   "outputs": [],
   "source": [
    "#Dataset inconsistente (apenas registros que contem moteid maior que 54)"
   ]
  },
  {
   "cell_type": "code",
   "execution_count": 174,
   "metadata": {},
   "outputs": [
    {
     "data": {
      "text/html": [
       "<div>\n",
       "<style scoped>\n",
       "    .dataframe tbody tr th:only-of-type {\n",
       "        vertical-align: middle;\n",
       "    }\n",
       "\n",
       "    .dataframe tbody tr th {\n",
       "        vertical-align: top;\n",
       "    }\n",
       "\n",
       "    .dataframe thead th {\n",
       "        text-align: right;\n",
       "    }\n",
       "</style>\n",
       "<table border=\"1\" class=\"dataframe\">\n",
       "  <thead>\n",
       "    <tr style=\"text-align: right;\">\n",
       "      <th></th>\n",
       "      <th>date</th>\n",
       "      <th>time</th>\n",
       "      <th>epoch</th>\n",
       "      <th>moteid</th>\n",
       "      <th>temperature</th>\n",
       "      <th>humidity</th>\n",
       "      <th>light</th>\n",
       "      <th>voltage</th>\n",
       "    </tr>\n",
       "  </thead>\n",
       "  <tbody>\n",
       "    <tr>\n",
       "      <th>0</th>\n",
       "      <td>2004-03-11</td>\n",
       "      <td>16:52:19.794238</td>\n",
       "      <td>2</td>\n",
       "      <td>55</td>\n",
       "      <td>26.2114</td>\n",
       "      <td>43.4524</td>\n",
       "      <td>97.52</td>\n",
       "      <td>3.04574</td>\n",
       "    </tr>\n",
       "    <tr>\n",
       "      <th>1</th>\n",
       "      <td>2004-03-12</td>\n",
       "      <td>09:15:21.526642</td>\n",
       "      <td>2</td>\n",
       "      <td>55</td>\n",
       "      <td>22.0170</td>\n",
       "      <td>41.7805</td>\n",
       "      <td>279.68</td>\n",
       "      <td>3.04574</td>\n",
       "    </tr>\n",
       "    <tr>\n",
       "      <th>2</th>\n",
       "      <td>2004-03-11</td>\n",
       "      <td>17:19:23.925033</td>\n",
       "      <td>2</td>\n",
       "      <td>55</td>\n",
       "      <td>25.4274</td>\n",
       "      <td>33.3507</td>\n",
       "      <td>93.84</td>\n",
       "      <td>3.03020</td>\n",
       "    </tr>\n",
       "    <tr>\n",
       "      <th>3</th>\n",
       "      <td>2004-03-11</td>\n",
       "      <td>17:15:52.136107</td>\n",
       "      <td>2</td>\n",
       "      <td>55</td>\n",
       "      <td>25.0158</td>\n",
       "      <td>33.9790</td>\n",
       "      <td>97.52</td>\n",
       "      <td>3.03020</td>\n",
       "    </tr>\n",
       "    <tr>\n",
       "      <th>4</th>\n",
       "      <td>2004-03-11</td>\n",
       "      <td>16:53:15.807424</td>\n",
       "      <td>4</td>\n",
       "      <td>55</td>\n",
       "      <td>26.2800</td>\n",
       "      <td>35.2995</td>\n",
       "      <td>217.12</td>\n",
       "      <td>3.03020</td>\n",
       "    </tr>\n",
       "    <tr>\n",
       "      <th>...</th>\n",
       "      <td>...</td>\n",
       "      <td>...</td>\n",
       "      <td>...</td>\n",
       "      <td>...</td>\n",
       "      <td>...</td>\n",
       "      <td>...</td>\n",
       "      <td>...</td>\n",
       "      <td>...</td>\n",
       "    </tr>\n",
       "    <tr>\n",
       "      <th>9714</th>\n",
       "      <td>2004-04-02</td>\n",
       "      <td>09:06:21.488182</td>\n",
       "      <td>62421</td>\n",
       "      <td>58</td>\n",
       "      <td>24.1730</td>\n",
       "      <td>21.6575</td>\n",
       "      <td>1729.60</td>\n",
       "      <td>2.78836</td>\n",
       "    </tr>\n",
       "    <tr>\n",
       "      <th>9715</th>\n",
       "      <td>2004-04-02</td>\n",
       "      <td>09:07:22.173243</td>\n",
       "      <td>62423</td>\n",
       "      <td>58</td>\n",
       "      <td>24.1436</td>\n",
       "      <td>21.7310</td>\n",
       "      <td>1729.60</td>\n",
       "      <td>2.78836</td>\n",
       "    </tr>\n",
       "    <tr>\n",
       "      <th>9716</th>\n",
       "      <td>2004-04-02</td>\n",
       "      <td>09:07:52.31387</td>\n",
       "      <td>62424</td>\n",
       "      <td>58</td>\n",
       "      <td>24.1436</td>\n",
       "      <td>21.6575</td>\n",
       "      <td>1670.72</td>\n",
       "      <td>2.78836</td>\n",
       "    </tr>\n",
       "    <tr>\n",
       "      <th>9717</th>\n",
       "      <td>2004-04-02</td>\n",
       "      <td>09:08:52.189274</td>\n",
       "      <td>62426</td>\n",
       "      <td>58</td>\n",
       "      <td>24.1240</td>\n",
       "      <td>21.5839</td>\n",
       "      <td>1670.72</td>\n",
       "      <td>2.78836</td>\n",
       "    </tr>\n",
       "    <tr>\n",
       "      <th>9718</th>\n",
       "      <td>2004-04-02</td>\n",
       "      <td>09:09:22.206544</td>\n",
       "      <td>62427</td>\n",
       "      <td>58</td>\n",
       "      <td>24.1044</td>\n",
       "      <td>21.4367</td>\n",
       "      <td>1729.60</td>\n",
       "      <td>2.78836</td>\n",
       "    </tr>\n",
       "  </tbody>\n",
       "</table>\n",
       "<p>9719 rows × 8 columns</p>\n",
       "</div>"
      ],
      "text/plain": [
       "            date             time  epoch  moteid  temperature  humidity  \\\n",
       "0     2004-03-11  16:52:19.794238      2      55      26.2114   43.4524   \n",
       "1     2004-03-12  09:15:21.526642      2      55      22.0170   41.7805   \n",
       "2     2004-03-11  17:19:23.925033      2      55      25.4274   33.3507   \n",
       "3     2004-03-11  17:15:52.136107      2      55      25.0158   33.9790   \n",
       "4     2004-03-11  16:53:15.807424      4      55      26.2800   35.2995   \n",
       "...          ...              ...    ...     ...          ...       ...   \n",
       "9714  2004-04-02  09:06:21.488182  62421      58      24.1730   21.6575   \n",
       "9715  2004-04-02  09:07:22.173243  62423      58      24.1436   21.7310   \n",
       "9716  2004-04-02   09:07:52.31387  62424      58      24.1436   21.6575   \n",
       "9717  2004-04-02  09:08:52.189274  62426      58      24.1240   21.5839   \n",
       "9718  2004-04-02  09:09:22.206544  62427      58      24.1044   21.4367   \n",
       "\n",
       "        light  voltage  \n",
       "0       97.52  3.04574  \n",
       "1      279.68  3.04574  \n",
       "2       93.84  3.03020  \n",
       "3       97.52  3.03020  \n",
       "4      217.12  3.03020  \n",
       "...       ...      ...  \n",
       "9714  1729.60  2.78836  \n",
       "9715  1729.60  2.78836  \n",
       "9716  1670.72  2.78836  \n",
       "9717  1670.72  2.78836  \n",
       "9718  1729.60  2.78836  \n",
       "\n",
       "[9719 rows x 8 columns]"
      ]
     },
     "execution_count": 174,
     "metadata": {},
     "output_type": "execute_result"
    }
   ],
   "source": [
    "inconsistent_dataset = pd.read_csv(r'C:\\Users\\Eduardo\\Documents\\UFBA\\PIBIC\\Projeto\\Datasets\\intel_lab_dataset\\inconsistent_data_with_labels.txt', sep=' ')\n",
    "inconsistent_dataset"
   ]
  },
  {
   "cell_type": "code",
   "execution_count": 175,
   "metadata": {},
   "outputs": [],
   "source": [
    "#Estatisticas gerais"
   ]
  },
  {
   "cell_type": "code",
   "execution_count": 176,
   "metadata": {},
   "outputs": [
    {
     "data": {
      "text/html": [
       "<div>\n",
       "<style scoped>\n",
       "    .dataframe tbody tr th:only-of-type {\n",
       "        vertical-align: middle;\n",
       "    }\n",
       "\n",
       "    .dataframe tbody tr th {\n",
       "        vertical-align: top;\n",
       "    }\n",
       "\n",
       "    .dataframe thead th {\n",
       "        text-align: right;\n",
       "    }\n",
       "</style>\n",
       "<table border=\"1\" class=\"dataframe\">\n",
       "  <thead>\n",
       "    <tr style=\"text-align: right;\">\n",
       "      <th></th>\n",
       "      <th>temperature</th>\n",
       "      <th>humidity</th>\n",
       "      <th>light</th>\n",
       "      <th>voltage</th>\n",
       "    </tr>\n",
       "  </thead>\n",
       "  <tbody>\n",
       "    <tr>\n",
       "      <th>count</th>\n",
       "      <td>2.210084e+06</td>\n",
       "      <td>2.210084e+06</td>\n",
       "      <td>2.210084e+06</td>\n",
       "      <td>2.210084e+06</td>\n",
       "    </tr>\n",
       "    <tr>\n",
       "      <th>mean</th>\n",
       "      <td>3.931401e+01</td>\n",
       "      <td>3.370669e+01</td>\n",
       "      <td>4.076119e+02</td>\n",
       "      <td>2.488983e+00</td>\n",
       "    </tr>\n",
       "    <tr>\n",
       "      <th>std</th>\n",
       "      <td>3.748325e+01</td>\n",
       "      <td>1.726761e+01</td>\n",
       "      <td>5.401490e+02</td>\n",
       "      <td>1.769051e-01</td>\n",
       "    </tr>\n",
       "    <tr>\n",
       "      <th>min</th>\n",
       "      <td>-3.840000e+01</td>\n",
       "      <td>-8.983130e+03</td>\n",
       "      <td>0.000000e+00</td>\n",
       "      <td>9.100830e-03</td>\n",
       "    </tr>\n",
       "    <tr>\n",
       "      <th>25%</th>\n",
       "      <td>2.046860e+01</td>\n",
       "      <td>3.180720e+01</td>\n",
       "      <td>3.956000e+01</td>\n",
       "      <td>2.385220e+00</td>\n",
       "    </tr>\n",
       "    <tr>\n",
       "      <th>50%</th>\n",
       "      <td>2.247760e+01</td>\n",
       "      <td>3.921230e+01</td>\n",
       "      <td>1.582400e+02</td>\n",
       "      <td>2.527320e+00</td>\n",
       "    </tr>\n",
       "    <tr>\n",
       "      <th>75%</th>\n",
       "      <td>2.702480e+01</td>\n",
       "      <td>4.348570e+01</td>\n",
       "      <td>5.667200e+02</td>\n",
       "      <td>2.627960e+00</td>\n",
       "    </tr>\n",
       "    <tr>\n",
       "      <th>max</th>\n",
       "      <td>3.855680e+02</td>\n",
       "      <td>1.375120e+02</td>\n",
       "      <td>1.847360e+03</td>\n",
       "      <td>3.159150e+00</td>\n",
       "    </tr>\n",
       "  </tbody>\n",
       "</table>\n",
       "</div>"
      ],
      "text/plain": [
       "        temperature      humidity         light       voltage\n",
       "count  2.210084e+06  2.210084e+06  2.210084e+06  2.210084e+06\n",
       "mean   3.931401e+01  3.370669e+01  4.076119e+02  2.488983e+00\n",
       "std    3.748325e+01  1.726761e+01  5.401490e+02  1.769051e-01\n",
       "min   -3.840000e+01 -8.983130e+03  0.000000e+00  9.100830e-03\n",
       "25%    2.046860e+01  3.180720e+01  3.956000e+01  2.385220e+00\n",
       "50%    2.247760e+01  3.921230e+01  1.582400e+02  2.527320e+00\n",
       "75%    2.702480e+01  4.348570e+01  5.667200e+02  2.627960e+00\n",
       "max    3.855680e+02  1.375120e+02  1.847360e+03  3.159150e+00"
      ]
     },
     "execution_count": 176,
     "metadata": {},
     "output_type": "execute_result"
    }
   ],
   "source": [
    "right_dataset.drop(columns=['epoch','moteid']).describe()"
   ]
  },
  {
   "cell_type": "code",
   "execution_count": 177,
   "metadata": {},
   "outputs": [],
   "source": [
    "#Medidas de distribuicao (obliquidade e curtose)"
   ]
  },
  {
   "cell_type": "code",
   "execution_count": 178,
   "metadata": {},
   "outputs": [
    {
     "name": "stdout",
     "output_type": "stream",
     "text": [
      "1.7058121095822867\n"
     ]
    }
   ],
   "source": [
    "print(skew(right_dataset.temperature))"
   ]
  },
  {
   "cell_type": "code",
   "execution_count": 179,
   "metadata": {},
   "outputs": [
    {
     "name": "stdout",
     "output_type": "stream",
     "text": [
      "1.0078785610312275\n"
     ]
    }
   ],
   "source": [
    "print(kurtosis(right_dataset.temperature))"
   ]
  },
  {
   "cell_type": "code",
   "execution_count": 180,
   "metadata": {},
   "outputs": [
    {
     "name": "stdout",
     "output_type": "stream",
     "text": [
      "-66.17908188115858\n"
     ]
    }
   ],
   "source": [
    "print(skew(right_dataset.humidity))"
   ]
  },
  {
   "cell_type": "code",
   "execution_count": 181,
   "metadata": {},
   "outputs": [
    {
     "name": "stdout",
     "output_type": "stream",
     "text": [
      "33707.27269136187\n"
     ]
    }
   ],
   "source": [
    "print(kurtosis(right_dataset.humidity))"
   ]
  },
  {
   "cell_type": "code",
   "execution_count": 182,
   "metadata": {},
   "outputs": [
    {
     "name": "stdout",
     "output_type": "stream",
     "text": [
      "1.5893754236331306\n"
     ]
    }
   ],
   "source": [
    "print(skew(right_dataset.light))"
   ]
  },
  {
   "cell_type": "code",
   "execution_count": 183,
   "metadata": {},
   "outputs": [
    {
     "name": "stdout",
     "output_type": "stream",
     "text": [
      "1.375962317513113\n"
     ]
    }
   ],
   "source": [
    "print(kurtosis(right_dataset.light))"
   ]
  },
  {
   "cell_type": "code",
   "execution_count": 184,
   "metadata": {},
   "outputs": [
    {
     "name": "stdout",
     "output_type": "stream",
     "text": [
      "-0.7254117836269773\n"
     ]
    }
   ],
   "source": [
    "print(skew(right_dataset.voltage))"
   ]
  },
  {
   "cell_type": "code",
   "execution_count": 185,
   "metadata": {},
   "outputs": [
    {
     "name": "stdout",
     "output_type": "stream",
     "text": [
      "-0.31971581188187725\n"
     ]
    }
   ],
   "source": [
    "print(kurtosis(right_dataset.voltage))"
   ]
  },
  {
   "cell_type": "code",
   "execution_count": 186,
   "metadata": {},
   "outputs": [],
   "source": [
    "#Histogramas"
   ]
  },
  {
   "cell_type": "code",
   "execution_count": 187,
   "metadata": {},
   "outputs": [
    {
     "name": "stderr",
     "output_type": "stream",
     "text": [
      "c:\\Users\\Eduardo\\anaconda3\\Lib\\site-packages\\seaborn\\_oldcore.py:1119: FutureWarning: use_inf_as_na option is deprecated and will be removed in a future version. Convert inf values to NaN before operating instead.\n",
      "  with pd.option_context('mode.use_inf_as_na', True):\n"
     ]
    },
    {
     "data": {
      "image/png": "[encoded data removed]",
      "text/plain": [
       "<Figure size 800x1000 with 1 Axes>"
      ]
     },
     "metadata": {},
     "output_type": "display_data"
    }
   ],
   "source": [
    "plotar_histograma(right_dataset.temperature)"
   ]
  },
  {
   "cell_type": "code",
   "execution_count": 188,
   "metadata": {},
   "outputs": [
    {
     "name": "stderr",
     "output_type": "stream",
     "text": [
      "c:\\Users\\Eduardo\\anaconda3\\Lib\\site-packages\\seaborn\\_oldcore.py:1119: FutureWarning: use_inf_as_na option is deprecated and will be removed in a future version. Convert inf values to NaN before operating instead.\n",
      "  with pd.option_context('mode.use_inf_as_na', True):\n"
     ]
    },
    {
     "data": {
      "image/png": "[encoded data removed]",
      "text/plain": [
       "<Figure size 800x1000 with 1 Axes>"
      ]
     },
     "metadata": {},
     "output_type": "display_data"
    }
   ],
   "source": [
    "plotar_histograma(right_dataset.humidity)"
   ]
  },
  {
   "cell_type": "code",
   "execution_count": 189,
   "metadata": {},
   "outputs": [
    {
     "name": "stderr",
     "output_type": "stream",
     "text": [
      "c:\\Users\\Eduardo\\anaconda3\\Lib\\site-packages\\seaborn\\_oldcore.py:1119: FutureWarning: use_inf_as_na option is deprecated and will be removed in a future version. Convert inf values to NaN before operating instead.\n",
      "  with pd.option_context('mode.use_inf_as_na', True):\n"
     ]
    },
    {
     "data": {
      "image/png": "[encoded data removed]",
      "text/plain": [
       "<Figure size 800x1000 with 1 Axes>"
      ]
     },
     "metadata": {},
     "output_type": "display_data"
    }
   ],
   "source": [
    "plotar_histograma(right_dataset.light)"
   ]
  },
  {
   "cell_type": "code",
   "execution_count": 190,
   "metadata": {},
   "outputs": [
    {
     "name": "stderr",
     "output_type": "stream",
     "text": [
      "c:\\Users\\Eduardo\\anaconda3\\Lib\\site-packages\\seaborn\\_oldcore.py:1119: FutureWarning: use_inf_as_na option is deprecated and will be removed in a future version. Convert inf values to NaN before operating instead.\n",
      "  with pd.option_context('mode.use_inf_as_na', True):\n"
     ]
    },
    {
     "data": {
      "image/png": "[encoded data removed]",
      "text/plain": [
       "<Figure size 800x1000 with 1 Axes>"
      ]
     },
     "metadata": {},
     "output_type": "display_data"
    }
   ],
   "source": [
    "plotar_histograma(right_dataset.voltage)"
   ]
  },
  {
   "cell_type": "code",
   "execution_count": 191,
   "metadata": {},
   "outputs": [],
   "source": [
    "#Valores de correlação entre variaveis"
   ]
  },
  {
   "cell_type": "code",
   "execution_count": 192,
   "metadata": {},
   "outputs": [
    {
     "data": {
      "text/plain": [
       "-0.7283744402871417"
      ]
     },
     "execution_count": 192,
     "metadata": {},
     "output_type": "execute_result"
    }
   ],
   "source": [
    "right_dataset.temperature.corr(right_dataset.humidity)"
   ]
  },
  {
   "cell_type": "code",
   "execution_count": 193,
   "metadata": {},
   "outputs": [
    {
     "data": {
      "text/plain": [
       "0.02141893230002063"
      ]
     },
     "execution_count": 193,
     "metadata": {},
     "output_type": "execute_result"
    }
   ],
   "source": [
    "right_dataset.temperature.corr(right_dataset.light)"
   ]
  },
  {
   "cell_type": "code",
   "execution_count": 194,
   "metadata": {},
   "outputs": [
    {
     "data": {
      "text/plain": [
       "-0.766690703716798"
      ]
     },
     "execution_count": 194,
     "metadata": {},
     "output_type": "execute_result"
    }
   ],
   "source": [
    "right_dataset.temperature.corr(right_dataset.voltage)"
   ]
  },
  {
   "cell_type": "code",
   "execution_count": 195,
   "metadata": {},
   "outputs": [
    {
     "data": {
      "text/plain": [
       "-0.09139743544361283"
      ]
     },
     "execution_count": 195,
     "metadata": {},
     "output_type": "execute_result"
    }
   ],
   "source": [
    "right_dataset.humidity.corr(right_dataset.light)"
   ]
  },
  {
   "cell_type": "code",
   "execution_count": 196,
   "metadata": {},
   "outputs": [
    {
     "data": {
      "text/plain": [
       "0.5364481625083846"
      ]
     },
     "execution_count": 196,
     "metadata": {},
     "output_type": "execute_result"
    }
   ],
   "source": [
    "right_dataset.humidity.corr(right_dataset.voltage)"
   ]
  },
  {
   "cell_type": "code",
   "execution_count": 197,
   "metadata": {},
   "outputs": [
    {
     "data": {
      "text/plain": [
       "0.0670157872402278"
      ]
     },
     "execution_count": 197,
     "metadata": {},
     "output_type": "execute_result"
    }
   ],
   "source": [
    "right_dataset.light.corr(right_dataset.voltage)"
   ]
  },
  {
   "cell_type": "code",
   "execution_count": 198,
   "metadata": {},
   "outputs": [],
   "source": [
    "#Boxplots"
   ]
  },
  {
   "cell_type": "code",
   "execution_count": 199,
   "metadata": {},
   "outputs": [
    {
     "data": {
      "image/png": "[encoded data removed]",
      "text/plain": [
       "<Figure size 800x1000 with 1 Axes>"
      ]
     },
     "metadata": {},
     "output_type": "display_data"
    }
   ],
   "source": [
    "plotar_boxplot(right_dataset.temperature)"
   ]
  },
  {
   "cell_type": "code",
   "execution_count": 200,
   "metadata": {},
   "outputs": [
    {
     "data": {
      "image/png": "[encoded data removed]",
      "text/plain": [
       "<Figure size 800x1000 with 1 Axes>"
      ]
     },
     "metadata": {},
     "output_type": "display_data"
    }
   ],
   "source": [
    "plotar_boxplot(right_dataset.humidity)"
   ]
  },
  {
   "cell_type": "code",
   "execution_count": 201,
   "metadata": {},
   "outputs": [
    {
     "data": {
      "image/png": "[encoded data removed]",
      "text/plain": [
       "<Figure size 800x1000 with 1 Axes>"
      ]
     },
     "metadata": {},
     "output_type": "display_data"
    }
   ],
   "source": [
    "plotar_boxplot(right_dataset.light)"
   ]
  },
  {
   "cell_type": "code",
   "execution_count": 202,
   "metadata": {},
   "outputs": [
    {
     "data": {
      "image/png": "[encoded data removed]",
      "text/plain": [
       "<Figure size 800x1000 with 1 Axes>"
      ]
     },
     "metadata": {},
     "output_type": "display_data"
    }
   ],
   "source": [
    "plotar_boxplot(right_dataset.voltage)"
   ]
  },
  {
   "cell_type": "code",
   "execution_count": 203,
   "metadata": {},
   "outputs": [],
   "source": [
    "#Grafico de setores registros completos x registros incompletos x registros inconsistentes"
   ]
  },
  {
   "cell_type": "code",
   "execution_count": 204,
   "metadata": {},
   "outputs": [
    {
     "data": {
      "text/plain": [
       "2313682"
      ]
     },
     "execution_count": 204,
     "metadata": {},
     "output_type": "execute_result"
    }
   ],
   "source": [
    "#numero de registros total\n",
    "len(dataset.index)"
   ]
  },
  {
   "cell_type": "code",
   "execution_count": 205,
   "metadata": {},
   "outputs": [
    {
     "data": {
      "text/plain": [
       "2210084"
      ]
     },
     "execution_count": 205,
     "metadata": {},
     "output_type": "execute_result"
    }
   ],
   "source": [
    "#numero de registros completos\n",
    "len(right_dataset.index)"
   ]
  },
  {
   "cell_type": "code",
   "execution_count": 206,
   "metadata": {},
   "outputs": [
    {
     "data": {
      "text/plain": [
       "93879"
      ]
     },
     "execution_count": 206,
     "metadata": {},
     "output_type": "execute_result"
    }
   ],
   "source": [
    "#numero de registros incompletos\n",
    "len(incomplete_dataset.index)"
   ]
  },
  {
   "cell_type": "code",
   "execution_count": 207,
   "metadata": {},
   "outputs": [
    {
     "data": {
      "text/plain": [
       "9719"
      ]
     },
     "execution_count": 207,
     "metadata": {},
     "output_type": "execute_result"
    }
   ],
   "source": [
    "#numero de registros inconsistentes\n",
    "len(inconsistent_dataset.index)"
   ]
  },
  {
   "cell_type": "code",
   "execution_count": 208,
   "metadata": {},
   "outputs": [
    {
     "data": {
      "text/plain": [
       "0.9552237515786526"
      ]
     },
     "execution_count": 208,
     "metadata": {},
     "output_type": "execute_result"
    }
   ],
   "source": [
    "proporcao_completos = len(right_dataset.index)/len(dataset.index)\n",
    "proporcao_completos"
   ]
  },
  {
   "cell_type": "code",
   "execution_count": 209,
   "metadata": {},
   "outputs": [
    {
     "data": {
      "text/plain": [
       "0.04057558471734664"
      ]
     },
     "execution_count": 209,
     "metadata": {},
     "output_type": "execute_result"
    }
   ],
   "source": [
    "proporcao_incompletos = len(incomplete_dataset.index)/len(dataset.index)\n",
    "proporcao_incompletos"
   ]
  },
  {
   "cell_type": "code",
   "execution_count": 210,
   "metadata": {},
   "outputs": [
    {
     "data": {
      "text/plain": [
       "0.004200663704000809"
      ]
     },
     "execution_count": 210,
     "metadata": {},
     "output_type": "execute_result"
    }
   ],
   "source": [
    "proporcao_inconsistentes = len(inconsistent_dataset.index)/len(dataset.index)\n",
    "proporcao_inconsistentes"
   ]
  },
  {
   "cell_type": "code",
   "execution_count": 211,
   "metadata": {},
   "outputs": [
    {
     "data": {
      "image/png": "[encoded data removed]",
      "text/plain": [
       "<Figure size 3600x3000 with 1 Axes>"
      ]
     },
     "metadata": {},
     "output_type": "display_data"
    }
   ],
   "source": [
    "plotar_grafico_setores_registros(proporcao_completos, proporcao_incompletos, proporcao_inconsistentes)"
   ]
  },
  {
   "cell_type": "code",
   "execution_count": 212,
   "metadata": {},
   "outputs": [],
   "source": [
    "#Grafico de setores outliers_temperature x outliers_humidity x outliers_light x outliers_voltage"
   ]
  },
  {
   "cell_type": "code",
   "execution_count": 213,
   "metadata": {},
   "outputs": [
    {
     "data": {
      "text/html": [
       "<div>\n",
       "<style scoped>\n",
       "    .dataframe tbody tr th:only-of-type {\n",
       "        vertical-align: middle;\n",
       "    }\n",
       "\n",
       "    .dataframe tbody tr th {\n",
       "        vertical-align: top;\n",
       "    }\n",
       "\n",
       "    .dataframe thead th {\n",
       "        text-align: right;\n",
       "    }\n",
       "</style>\n",
       "<table border=\"1\" class=\"dataframe\">\n",
       "  <thead>\n",
       "    <tr style=\"text-align: right;\">\n",
       "      <th></th>\n",
       "      <th>temperature</th>\n",
       "      <th>humidity</th>\n",
       "      <th>light</th>\n",
       "      <th>voltage</th>\n",
       "    </tr>\n",
       "  </thead>\n",
       "  <tbody>\n",
       "    <tr>\n",
       "      <th>0</th>\n",
       "      <td>122.1530</td>\n",
       "      <td>-3.91901</td>\n",
       "      <td>11.04</td>\n",
       "      <td>2.03397</td>\n",
       "    </tr>\n",
       "    <tr>\n",
       "      <th>1</th>\n",
       "      <td>19.9884</td>\n",
       "      <td>37.09330</td>\n",
       "      <td>45.08</td>\n",
       "      <td>2.69964</td>\n",
       "    </tr>\n",
       "    <tr>\n",
       "      <th>2</th>\n",
       "      <td>19.3024</td>\n",
       "      <td>38.46290</td>\n",
       "      <td>45.08</td>\n",
       "      <td>2.68742</td>\n",
       "    </tr>\n",
       "    <tr>\n",
       "      <th>3</th>\n",
       "      <td>19.1652</td>\n",
       "      <td>38.80390</td>\n",
       "      <td>45.08</td>\n",
       "      <td>2.68742</td>\n",
       "    </tr>\n",
       "    <tr>\n",
       "      <th>4</th>\n",
       "      <td>19.1750</td>\n",
       "      <td>38.83790</td>\n",
       "      <td>45.08</td>\n",
       "      <td>2.69964</td>\n",
       "    </tr>\n",
       "    <tr>\n",
       "      <th>...</th>\n",
       "      <td>...</td>\n",
       "      <td>...</td>\n",
       "      <td>...</td>\n",
       "      <td>...</td>\n",
       "    </tr>\n",
       "    <tr>\n",
       "      <th>2210079</th>\n",
       "      <td>21.4780</td>\n",
       "      <td>47.63610</td>\n",
       "      <td>0.46</td>\n",
       "      <td>2.35683</td>\n",
       "    </tr>\n",
       "    <tr>\n",
       "      <th>2210080</th>\n",
       "      <td>21.4780</td>\n",
       "      <td>47.63610</td>\n",
       "      <td>0.46</td>\n",
       "      <td>2.34751</td>\n",
       "    </tr>\n",
       "    <tr>\n",
       "      <th>2210081</th>\n",
       "      <td>21.4192</td>\n",
       "      <td>47.66870</td>\n",
       "      <td>0.46</td>\n",
       "      <td>2.34751</td>\n",
       "    </tr>\n",
       "    <tr>\n",
       "      <th>2210082</th>\n",
       "      <td>21.3996</td>\n",
       "      <td>47.70130</td>\n",
       "      <td>0.46</td>\n",
       "      <td>2.34751</td>\n",
       "    </tr>\n",
       "    <tr>\n",
       "      <th>2210083</th>\n",
       "      <td>21.3604</td>\n",
       "      <td>47.83150</td>\n",
       "      <td>0.46</td>\n",
       "      <td>2.34751</td>\n",
       "    </tr>\n",
       "  </tbody>\n",
       "</table>\n",
       "<p>2210084 rows × 4 columns</p>\n",
       "</div>"
      ],
      "text/plain": [
       "         temperature  humidity  light  voltage\n",
       "0           122.1530  -3.91901  11.04  2.03397\n",
       "1            19.9884  37.09330  45.08  2.69964\n",
       "2            19.3024  38.46290  45.08  2.68742\n",
       "3            19.1652  38.80390  45.08  2.68742\n",
       "4            19.1750  38.83790  45.08  2.69964\n",
       "...              ...       ...    ...      ...\n",
       "2210079      21.4780  47.63610   0.46  2.35683\n",
       "2210080      21.4780  47.63610   0.46  2.34751\n",
       "2210081      21.4192  47.66870   0.46  2.34751\n",
       "2210082      21.3996  47.70130   0.46  2.34751\n",
       "2210083      21.3604  47.83150   0.46  2.34751\n",
       "\n",
       "[2210084 rows x 4 columns]"
      ]
     },
     "execution_count": 213,
     "metadata": {},
     "output_type": "execute_result"
    }
   ],
   "source": [
    "physical_variables_right_dataset = right_dataset.drop(columns=['date','time','epoch','moteid'])\n",
    "physical_variables_right_dataset"
   ]
  },
  {
   "cell_type": "code",
   "execution_count": 214,
   "metadata": {},
   "outputs": [],
   "source": [
    "Q1 = physical_variables_right_dataset.quantile(0.25)\n",
    "Q3 = physical_variables_right_dataset.quantile(0.75)\n",
    "IQR = Q3 - Q1"
   ]
  },
  {
   "cell_type": "code",
   "execution_count": 215,
   "metadata": {},
   "outputs": [
    {
     "data": {
      "text/plain": [
       "temperature    412200\n",
       "humidity       302902\n",
       "light          226887\n",
       "voltage          5983\n",
       "dtype: int64"
      ]
     },
     "execution_count": 215,
     "metadata": {},
     "output_type": "execute_result"
    }
   ],
   "source": [
    "((physical_variables_right_dataset < (Q1 - 1.5*IQR)) | (physical_variables_right_dataset > (Q3 + 1.5*IQR))).sum()"
   ]
  },
  {
   "cell_type": "code",
   "execution_count": 216,
   "metadata": {},
   "outputs": [],
   "source": [
    "qtd_outliers_temperature = ((physical_variables_right_dataset < (Q1 - 1.5*IQR)) | (physical_variables_right_dataset > (Q3 + 1.5*IQR))).temperature.sum()"
   ]
  },
  {
   "cell_type": "code",
   "execution_count": 217,
   "metadata": {},
   "outputs": [],
   "source": [
    "qtd_outliers_humidity = ((physical_variables_right_dataset < (Q1 - 1.5*IQR)) | (physical_variables_right_dataset > (Q3 + 1.5*IQR))).humidity.sum()"
   ]
  },
  {
   "cell_type": "code",
   "execution_count": 218,
   "metadata": {},
   "outputs": [],
   "source": [
    "qtd_outliers_light = ((physical_variables_right_dataset < (Q1 - 1.5*IQR)) | (physical_variables_right_dataset > (Q3 + 1.5*IQR))).light.sum()"
   ]
  },
  {
   "cell_type": "code",
   "execution_count": 219,
   "metadata": {},
   "outputs": [],
   "source": [
    "qtd_outliers_voltage = ((physical_variables_right_dataset < (Q1 - 1.5*IQR)) | (physical_variables_right_dataset > (Q3 + 1.5*IQR))).voltage.sum()"
   ]
  },
  {
   "cell_type": "code",
   "execution_count": 220,
   "metadata": {},
   "outputs": [],
   "source": [
    "qtd_registros = len(right_dataset.index)"
   ]
  },
  {
   "cell_type": "code",
   "execution_count": 221,
   "metadata": {},
   "outputs": [
    {
     "data": {
      "text/plain": [
       "0.18650874808378323"
      ]
     },
     "execution_count": 221,
     "metadata": {},
     "output_type": "execute_result"
    }
   ],
   "source": [
    "proporcao_outliers_temperature = qtd_outliers_temperature/qtd_registros\n",
    "proporcao_outliers_temperature"
   ]
  },
  {
   "cell_type": "code",
   "execution_count": 222,
   "metadata": {},
   "outputs": [
    {
     "data": {
      "text/plain": [
       "0.13705451919474554"
      ]
     },
     "execution_count": 222,
     "metadata": {},
     "output_type": "execute_result"
    }
   ],
   "source": [
    "proporcao_outliers_humidity = qtd_outliers_humidity/qtd_registros\n",
    "proporcao_outliers_humidity"
   ]
  },
  {
   "cell_type": "code",
   "execution_count": 223,
   "metadata": {},
   "outputs": [
    {
     "data": {
      "text/plain": [
       "0.10265989889977033"
      ]
     },
     "execution_count": 223,
     "metadata": {},
     "output_type": "execute_result"
    }
   ],
   "source": [
    "proporcao_outliers_light = qtd_outliers_light/qtd_registros\n",
    "proporcao_outliers_light"
   ]
  },
  {
   "cell_type": "code",
   "execution_count": 224,
   "metadata": {},
   "outputs": [
    {
     "data": {
      "text/plain": [
       "0.002707136923302463"
      ]
     },
     "execution_count": 224,
     "metadata": {},
     "output_type": "execute_result"
    }
   ],
   "source": [
    "proporcao_outliers_voltage = qtd_outliers_voltage/qtd_registros\n",
    "proporcao_outliers_voltage"
   ]
  },
  {
   "cell_type": "code",
   "execution_count": 225,
   "metadata": {},
   "outputs": [
    {
     "data": {
      "image/png": "[encoded data removed]",
      "text/plain": [
       "<Figure size 3600x3000 with 1 Axes>"
      ]
     },
     "metadata": {},
     "output_type": "display_data"
    }
   ],
   "source": [
    "plotar_grafico_setores_outliers(proporcao_outliers_temperature, proporcao_outliers_humidity, proporcao_outliers_light, proporcao_outliers_voltage)"
   ]
  },
  {
   "cell_type": "code",
   "execution_count": 226,
   "metadata": {},
   "outputs": [],
   "source": [
    "#Numero de outliers por dispositivo\n",
    "\n",
    "#obs1: data_device_moteid_5 sem registros\n",
    "#obs2: data_device_moteid_28 sem registros "
   ]
  },
  {
   "cell_type": "code",
   "execution_count": 247,
   "metadata": {},
   "outputs": [
    {
     "name": "stdout",
     "output_type": "stream",
     "text": [
      "Quantidades de outliers do dispositivo com moteid 1:\n",
      "temperature    6682\n",
      "humidity       4431\n",
      "light             0\n",
      "voltage           6\n",
      "dtype: int64\n",
      "\n",
      "Quantidades de outliers do dispositivo com moteid 2:\n",
      "temperature    9127\n",
      "humidity       6447\n",
      "light             0\n",
      "voltage          91\n",
      "dtype: int64\n",
      "\n",
      "Quantidades de outliers do dispositivo com moteid 3:\n",
      "temperature    5813\n",
      "humidity       4743\n",
      "light             0\n",
      "voltage           1\n",
      "dtype: int64\n",
      "\n",
      "Quantidades de outliers do dispositivo com moteid 4:\n",
      "temperature    10650\n",
      "humidity        9252\n",
      "light              0\n",
      "voltage            0\n",
      "dtype: int64\n",
      "\n",
      "An exception occurred\n",
      "\n",
      "Quantidades de outliers do dispositivo com moteid 6:\n",
      "temperature    10130\n",
      "humidity        8789\n",
      "light           2622\n",
      "voltage         1252\n",
      "dtype: int64\n",
      "\n",
      "Quantidades de outliers do dispositivo com moteid 7:\n",
      "temperature    11820\n",
      "humidity        9234\n",
      "light              0\n",
      "voltage            0\n",
      "dtype: int64\n",
      "\n",
      "Quantidades de outliers do dispositivo com moteid 8:\n",
      "temperature      17\n",
      "humidity         15\n",
      "light          4282\n",
      "voltage           1\n",
      "dtype: int64\n",
      "\n",
      "Quantidades de outliers do dispositivo com moteid 9:\n",
      "temperature     7932\n",
      "humidity        6628\n",
      "light          15729\n",
      "voltage            0\n",
      "dtype: int64\n",
      "\n",
      "Quantidades de outliers do dispositivo com moteid 10:\n",
      "temperature    12214\n",
      "humidity       10677\n",
      "light              5\n",
      "voltage          843\n",
      "dtype: int64\n",
      "\n",
      "Quantidades de outliers do dispositivo com moteid 11:\n",
      "temperature    7540\n",
      "humidity       5422\n",
      "light          6250\n",
      "voltage         106\n",
      "dtype: int64\n",
      "\n",
      "Quantidades de outliers do dispositivo com moteid 12:\n",
      "temperature    2603\n",
      "humidity       1520\n",
      "light          3966\n",
      "voltage           0\n",
      "dtype: int64\n",
      "\n",
      "Quantidades de outliers do dispositivo com moteid 13:\n",
      "temperature    5234\n",
      "humidity       3489\n",
      "light          1626\n",
      "voltage           4\n",
      "dtype: int64\n",
      "\n",
      "Quantidades de outliers do dispositivo com moteid 14:\n",
      "temperature    4310\n",
      "humidity       2982\n",
      "light             0\n",
      "voltage           0\n",
      "dtype: int64\n",
      "\n",
      "Quantidades de outliers do dispositivo com moteid 15:\n",
      "temperature    237\n",
      "humidity       209\n",
      "light          599\n",
      "voltage          0\n",
      "dtype: int64\n",
      "\n",
      "Quantidades de outliers do dispositivo com moteid 16:\n",
      "temperature     7077\n",
      "humidity        7080\n",
      "light          11325\n",
      "voltage            0\n",
      "dtype: int64\n",
      "\n",
      "Quantidades de outliers do dispositivo com moteid 17:\n",
      "temperature    5623\n",
      "humidity       5590\n",
      "light          2220\n",
      "voltage           0\n",
      "dtype: int64\n",
      "\n",
      "Quantidades de outliers do dispositivo com moteid 18:\n",
      "temperature    12813\n",
      "humidity       11982\n",
      "light              0\n",
      "voltage          679\n",
      "dtype: int64\n",
      "\n",
      "Quantidades de outliers do dispositivo com moteid 19:\n",
      "temperature    9814\n",
      "humidity       8411\n",
      "light             0\n",
      "voltage           0\n",
      "dtype: int64\n",
      "\n",
      "Quantidades de outliers do dispositivo com moteid 20:\n",
      "temperature      21\n",
      "humidity         17\n",
      "light          3105\n",
      "voltage         638\n",
      "dtype: int64\n",
      "\n",
      "Quantidades de outliers do dispositivo com moteid 21:\n",
      "temperature    9303\n",
      "humidity       4617\n",
      "light             0\n",
      "voltage           0\n",
      "dtype: int64\n",
      "\n",
      "Quantidades de outliers do dispositivo com moteid 22:\n",
      "temperature    5351\n",
      "humidity       2313\n",
      "light          2656\n",
      "voltage           0\n",
      "dtype: int64\n",
      "\n",
      "Quantidades de outliers do dispositivo com moteid 23:\n",
      "temperature    14127\n",
      "humidity       10398\n",
      "light              0\n",
      "voltage          111\n",
      "dtype: int64\n",
      "\n",
      "Quantidades de outliers do dispositivo com moteid 24:\n",
      "temperature    15524\n",
      "humidity       10356\n",
      "light           8355\n",
      "voltage            9\n",
      "dtype: int64\n",
      "\n",
      "Quantidades de outliers do dispositivo com moteid 25:\n",
      "temperature    10471\n",
      "humidity        7853\n",
      "light          11845\n",
      "voltage          333\n",
      "dtype: int64\n",
      "\n",
      "Quantidades de outliers do dispositivo com moteid 26:\n",
      "temperature    17988\n",
      "humidity       14611\n",
      "light           9531\n",
      "voltage          538\n",
      "dtype: int64\n",
      "\n",
      "Quantidades de outliers do dispositivo com moteid 27:\n",
      "temperature    9853\n",
      "humidity       6291\n",
      "light             0\n",
      "voltage           3\n",
      "dtype: int64\n",
      "\n",
      "An exception occurred\n",
      "\n",
      "Quantidades de outliers do dispositivo com moteid 29:\n",
      "temperature    17008\n",
      "humidity       11995\n",
      "light              0\n",
      "voltage           39\n",
      "dtype: int64\n",
      "\n",
      "Quantidades de outliers do dispositivo com moteid 30:\n",
      "temperature    13422\n",
      "humidity       10577\n",
      "light           8442\n",
      "voltage            3\n",
      "dtype: int64\n",
      "\n",
      "Quantidades de outliers do dispositivo com moteid 31:\n",
      "temperature    13197\n",
      "humidity       10259\n",
      "light          11542\n",
      "voltage           85\n",
      "dtype: int64\n",
      "\n",
      "Quantidades de outliers do dispositivo com moteid 32:\n",
      "temperature    13149\n",
      "humidity        9101\n",
      "light           5851\n",
      "voltage            0\n",
      "dtype: int64\n",
      "\n",
      "Quantidades de outliers do dispositivo com moteid 33:\n",
      "temperature    9682\n",
      "humidity       7828\n",
      "light           446\n",
      "voltage           0\n",
      "dtype: int64\n",
      "\n",
      "Quantidades de outliers do dispositivo com moteid 34:\n",
      "temperature    14454\n",
      "humidity       10275\n",
      "light          14422\n",
      "voltage            3\n",
      "dtype: int64\n",
      "\n",
      "Quantidades de outliers do dispositivo com moteid 35:\n",
      "temperature    13521\n",
      "humidity        8556\n",
      "light           6962\n",
      "voltage            0\n",
      "dtype: int64\n",
      "\n",
      "Quantidades de outliers do dispositivo com moteid 36:\n",
      "temperature    11175\n",
      "humidity        8829\n",
      "light          14457\n",
      "voltage          136\n",
      "dtype: int64\n",
      "\n",
      "Quantidades de outliers do dispositivo com moteid 37:\n",
      "temperature    13099\n",
      "humidity       10817\n",
      "light           3300\n",
      "voltage            7\n",
      "dtype: int64\n",
      "\n",
      "Quantidades de outliers do dispositivo com moteid 38:\n",
      "temperature    12640\n",
      "humidity        5796\n",
      "light           7226\n",
      "voltage          127\n",
      "dtype: int64\n",
      "\n",
      "Quantidades de outliers do dispositivo com moteid 39:\n",
      "temperature    6563\n",
      "humidity       5448\n",
      "light             0\n",
      "voltage           5\n",
      "dtype: int64\n",
      "\n",
      "Quantidades de outliers do dispositivo com moteid 40:\n",
      "temperature    7340\n",
      "humidity       5352\n",
      "light          3945\n",
      "voltage         149\n",
      "dtype: int64\n",
      "\n",
      "Quantidades de outliers do dispositivo com moteid 41:\n",
      "temperature    4209\n",
      "humidity       3012\n",
      "light          4802\n",
      "voltage           1\n",
      "dtype: int64\n",
      "\n",
      "Quantidades de outliers do dispositivo com moteid 42:\n",
      "temperature    5906\n",
      "humidity       2992\n",
      "light          1773\n",
      "voltage          78\n",
      "dtype: int64\n",
      "\n",
      "Quantidades de outliers do dispositivo com moteid 43:\n",
      "temperature    5830\n",
      "humidity       4257\n",
      "light             2\n",
      "voltage         231\n",
      "dtype: int64\n",
      "\n",
      "Quantidades de outliers do dispositivo com moteid 44:\n",
      "temperature    3818\n",
      "humidity       2283\n",
      "light          8791\n",
      "voltage           2\n",
      "dtype: int64\n",
      "\n",
      "Quantidades de outliers do dispositivo com moteid 45:\n",
      "temperature     154\n",
      "humidity          0\n",
      "light          4637\n",
      "voltage           0\n",
      "dtype: int64\n",
      "\n",
      "Quantidades de outliers do dispositivo com moteid 46:\n",
      "temperature    7163\n",
      "humidity       3388\n",
      "light          1186\n",
      "voltage          81\n",
      "dtype: int64\n",
      "\n",
      "Quantidades de outliers do dispositivo com moteid 47:\n",
      "temperature     2294\n",
      "humidity        1776\n",
      "light          18420\n",
      "voltage            1\n",
      "dtype: int64\n",
      "\n",
      "Quantidades de outliers do dispositivo com moteid 48:\n",
      "temperature    2426\n",
      "humidity       2084\n",
      "light          2964\n",
      "voltage           0\n",
      "dtype: int64\n",
      "\n",
      "Quantidades de outliers do dispositivo com moteid 49:\n",
      "temperature    3365\n",
      "humidity       2514\n",
      "light          4980\n",
      "voltage         115\n",
      "dtype: int64\n",
      "\n",
      "Quantidades de outliers do dispositivo com moteid 50:\n",
      "temperature       0\n",
      "humidity          0\n",
      "light          4585\n",
      "voltage           0\n",
      "dtype: int64\n",
      "\n",
      "Quantidades de outliers do dispositivo com moteid 51:\n",
      "temperature    5532\n",
      "humidity       2641\n",
      "light             1\n",
      "voltage           1\n",
      "dtype: int64\n",
      "\n",
      "Quantidades de outliers do dispositivo com moteid 52:\n",
      "temperature    4560\n",
      "humidity       2709\n",
      "light             0\n",
      "voltage         235\n",
      "dtype: int64\n",
      "\n",
      "Quantidades de outliers do dispositivo com moteid 53:\n",
      "temperature    3582\n",
      "humidity       2772\n",
      "light          5569\n",
      "voltage           0\n",
      "dtype: int64\n",
      "\n",
      "Quantidades de outliers do dispositivo com moteid 54:\n",
      "temperature    5824\n",
      "humidity       4277\n",
      "light          8467\n",
      "voltage          63\n",
      "dtype: int64\n",
      "\n"
     ]
    }
   ],
   "source": [
    "for i in range(1,55):\n",
    "    try:\n",
    "        file_path = r'C:\\Users\\Eduardo\\Documents\\UFBA\\PIBIC\\Projeto\\Datasets\\intel_lab_dataset\\data_device_moteid_' + str(i) + '.txt'\n",
    "        dataset_device_moteid = pd.read_csv(file_path, sep=' ')\n",
    "        dataset_device_moteid.columns = ['date', 'time', 'epoch', 'moteid', 'temperature', 'humidity', 'light', 'voltage']\n",
    "        physical_variables_dataset_device_moteid = dataset_device_moteid.drop(columns=['date','time','epoch','moteid'])\n",
    "        print('Quantidades de outliers do dispositivo com moteid ' + str(i) + ':')\n",
    "        print(((physical_variables_dataset_device_moteid < (Q1 - 1.5*IQR)) | (physical_variables_dataset_device_moteid > (Q3 + 1.5*IQR))).sum())\n",
    "        print()\n",
    "    except:\n",
    "        print(\"An exception occurred\")\n",
    "        print()"
   ]
  },
  {
   "cell_type": "code",
   "execution_count": 229,
   "metadata": {},
   "outputs": [],
   "source": [
    "#Grafico de barras quantidade de outliers {variavel} x dispositivo"
   ]
  },
  {
   "cell_type": "code",
   "execution_count": 253,
   "metadata": {},
   "outputs": [],
   "source": [
    "mote_ids = []\n",
    "\n",
    "#preencher mote_ids exceto com '5' e '28'\n",
    "for i in range (1,5):\n",
    "    mote_ids.append(str(i))\n",
    "for i in range (6,28):\n",
    "    mote_ids.append(str(i))\n",
    "for i in range(29,55):\n",
    "    mote_ids.append(str(i))\n",
    "\n",
    "qtd_outliers_temperature= []\n",
    "qtd_outliers_humidity = []\n",
    "qtd_outliers_light = []\n",
    "qtd_outliers_voltage = []\n",
    "\n",
    "for i in range(1,55):\n",
    "    try:\n",
    "        file_path = r'C:\\Users\\Eduardo\\Documents\\UFBA\\PIBIC\\Projeto\\Datasets\\intel_lab_dataset\\data_device_moteid_' + str(i) + '.txt'\n",
    "        dataset_device_moteid = pd.read_csv(file_path, sep=' ')\n",
    "        dataset_device_moteid.columns = ['date', 'time', 'epoch', 'moteid', 'temperature', 'humidity', 'light', 'voltage']\n",
    "        physical_variables_dataset_device_moteid = dataset_device_moteid.drop(columns=['date','time','epoch','moteid'])\n",
    "        qtd_outliers_temperature.append(((physical_variables_dataset_device_moteid < (Q1 - 1.5*IQR)) | (physical_variables_dataset_device_moteid > (Q3 + 1.5*IQR))).temperature.sum())\n",
    "        qtd_outliers_humidity.append(((physical_variables_dataset_device_moteid < (Q1 - 1.5*IQR)) | (physical_variables_dataset_device_moteid > (Q3 + 1.5*IQR))).humidity.sum())\n",
    "        qtd_outliers_light.append(((physical_variables_dataset_device_moteid < (Q1 - 1.5*IQR)) | (physical_variables_dataset_device_moteid > (Q3 + 1.5*IQR))).light.sum())\n",
    "        qtd_outliers_voltage.append(((physical_variables_dataset_device_moteid < (Q1 - 1.5*IQR)) | (physical_variables_dataset_device_moteid > (Q3 + 1.5*IQR))).voltage.sum())\n",
    "    except:\n",
    "        continue"
   ]
  },
  {
   "cell_type": "code",
   "execution_count": 254,
   "metadata": {},
   "outputs": [
    {
     "data": {
      "image/png": "[encoded data removed]",
      "text/plain": [
       "<Figure size 1500x600 with 1 Axes>"
      ]
     },
     "metadata": {},
     "output_type": "display_data"
    }
   ],
   "source": [
    "plt.figure(figsize=(15, 6))\n",
    "plt.bar(mote_ids, qtd_outliers_temperature, color=\"red\")\n",
    "plt.xticks(mote_ids)\n",
    "plt.ylabel('Qtd de outliers para temperature')\n",
    "plt.xlabel('moteid')\n",
    "plt.title('Quantidade de outliers temperature x Dispositivo')\n",
    "plt.show()"
   ]
  },
  {
   "cell_type": "code",
   "execution_count": 255,
   "metadata": {},
   "outputs": [
    {
     "data": {
      "image/png": "[encoded data removed]",
      "text/plain": [
       "<Figure size 1500x600 with 1 Axes>"
      ]
     },
     "metadata": {},
     "output_type": "display_data"
    }
   ],
   "source": [
    "plt.figure(figsize=(15, 6))\n",
    "plt.bar(mote_ids, qtd_outliers_humidity, color=\"blue\")\n",
    "plt.xticks(mote_ids)\n",
    "plt.ylabel('Qtd de outliers para humidity')\n",
    "plt.xlabel('moteid')\n",
    "plt.title('Quantidade de outliers humidity x Dispositivo')\n",
    "plt.show()"
   ]
  },
  {
   "cell_type": "code",
   "execution_count": 256,
   "metadata": {},
   "outputs": [
    {
     "data": {
      "image/png": "[encoded data removed]",
      "text/plain": [
       "<Figure size 1500x600 with 1 Axes>"
      ]
     },
     "metadata": {},
     "output_type": "display_data"
    }
   ],
   "source": [
    "plt.figure(figsize=(15, 6))\n",
    "plt.bar(mote_ids, qtd_outliers_light, color=\"magenta\")\n",
    "plt.xticks(mote_ids)\n",
    "plt.ylabel('Qtd de outliers para light')\n",
    "plt.xlabel('moteid')\n",
    "plt.title('Quantidade de outliers light x Dispositivo')\n",
    "plt.show()"
   ]
  },
  {
   "cell_type": "code",
   "execution_count": 257,
   "metadata": {},
   "outputs": [
    {
     "data": {
      "image/png": "[encoded data removed]",
      "text/plain": [
       "<Figure size 1500x600 with 1 Axes>"
      ]
     },
     "metadata": {},
     "output_type": "display_data"
    }
   ],
   "source": [
    "plt.figure(figsize=(15, 6))\n",
    "plt.bar(mote_ids, qtd_outliers_voltage, color=\"green\")\n",
    "plt.xticks(mote_ids)\n",
    "plt.ylabel('Qtd de outliers para voltage')\n",
    "plt.xlabel('moteid')\n",
    "plt.title('Quantidade de outliers voltage x Dispositivo')\n",
    "plt.show()"
   ]
  }
 ],
 "metadata": {
  "kernelspec": {
   "display_name": "myenv",
   "language": "python",
   "name": "python3"
  },
  "language_info": {
   "codemirror_mode": {
    "name": "ipython",
    "version": 3
   },
   "file_extension": ".py",
   "mimetype": "text/x-python",
   "name": "python",
   "nbconvert_exporter": "python",
   "pygments_lexer": "ipython3",
   "version": "3.11.7"
  }
 },
 "nbformat": 4,
 "nbformat_minor": 2
}
